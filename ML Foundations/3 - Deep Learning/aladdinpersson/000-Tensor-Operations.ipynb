{
 "cells": [
  {
   "cell_type": "code",
   "execution_count": 96,
   "metadata": {},
   "outputs": [],
   "source": [
    "import torch"
   ]
  },
  {
   "cell_type": "markdown",
   "metadata": {},
   "source": [
    "## [1] TENSOR INITIALIZATION"
   ]
  },
  {
   "cell_type": "markdown",
   "metadata": {},
   "source": [
    "#### BASIC METHOD"
   ]
  },
  {
   "cell_type": "code",
   "execution_count": 97,
   "metadata": {},
   "outputs": [
    {
     "name": "stdout",
     "output_type": "stream",
     "text": [
      "tensor([[1, 2, 3],\n",
      "        [4, 5, 6]])\n",
      "tensor([[1., 2., 3.],\n",
      "        [4., 5., 6.]])\n",
      "tensor([[1., 2., 3.],\n",
      "        [4., 5., 6.]], device='cuda:0')\n",
      "tensor([[1., 2., 3.],\n",
      "        [4., 5., 6.]])\n",
      "tensor([[1., 2., 3.],\n",
      "        [4., 5., 6.]], requires_grad=True)\n"
     ]
    }
   ],
   "source": [
    "\n",
    "#2 rows, 3 columns\n",
    "my_tensor = torch.tensor([[1,2,3], [4,5,6]])\n",
    "print(my_tensor)\n",
    "\n",
    "# set type\n",
    "my_tensor = torch.tensor([[1,2,3], [4,5,6]], \n",
    "                         dtype=torch.float32)\n",
    "print(my_tensor)\n",
    "\n",
    "# set device: CUDA\n",
    "my_tensor = torch.tensor([[1,2,3], [4,5,6]], \n",
    "                         dtype=torch.float32,\n",
    "                         device='cuda')\n",
    "print(my_tensor)\n",
    "\n",
    "# set device cpu\n",
    "my_tensor = torch.tensor([[1,2,3], [4,5,6]], \n",
    "                         dtype=torch.float32,\n",
    "                         device='cpu')\n",
    "print(my_tensor)\n",
    "\n",
    "# setup AUTOGRAD \n",
    "my_tensor = torch.tensor([[1,2,3], [4,5,6]], \n",
    "                         dtype=torch.float32,\n",
    "                         device='cpu',\n",
    "                         requires_grad=True)\n",
    "print(my_tensor)"
   ]
  },
  {
   "cell_type": "code",
   "execution_count": 98,
   "metadata": {},
   "outputs": [
    {
     "name": "stdout",
     "output_type": "stream",
     "text": [
      "tensor([[1., 2., 3.],\n",
      "        [4., 5., 6.]], device='cuda:0', requires_grad=True)\n",
      "torch.float32\n",
      "cuda:0\n",
      "True\n",
      "torch.Size([2, 3])\n"
     ]
    }
   ],
   "source": [
    "DEVICE = 'cuda' if torch.cuda.is_available() else 'cpu'\n",
    "\n",
    "my_tensor = torch.tensor([[1,2,3], [4,5,6]], \n",
    "                         dtype=torch.float32,\n",
    "                         device=DEVICE,\n",
    "                         requires_grad=True)\n",
    "print(my_tensor)\n",
    "print(my_tensor.dtype)\n",
    "print(my_tensor.device)\n",
    "print(my_tensor.requires_grad)\n",
    "print(my_tensor.shape)"
   ]
  },
  {
   "cell_type": "markdown",
   "metadata": {},
   "source": [
    "#### COMMON INITIALIZATION METHODS"
   ]
  },
  {
   "cell_type": "code",
   "execution_count": 99,
   "metadata": {},
   "outputs": [
    {
     "name": "stdout",
     "output_type": "stream",
     "text": [
      "tensor([[-4.2880e+37,  1.5849e-42,  2.3694e-38,  2.3694e-38],\n",
      "        [ 2.3694e-38,  2.3694e-38,  1.4013e-45,  0.0000e+00]])\n",
      "tensor([[0., 0.],\n",
      "        [0., 0.],\n",
      "        [0., 0.]])\n",
      "tensor([[0.2744, 0.2369],\n",
      "        [0.8411, 0.5270]])\n",
      "tensor([[1., 1.],\n",
      "        [1., 1.]])\n",
      "tensor([[1., 0., 0., 0., 0.],\n",
      "        [0., 1., 0., 0., 0.],\n",
      "        [0., 0., 1., 0., 0.]])\n",
      "tensor([0, 1, 2, 3, 4])\n",
      "tensor([0.1000, 0.5500, 1.0000])\n",
      "tensor([[-0.8405,  0.1627,  0.7913,  0.6105],\n",
      "        [ 0.1480, -1.1028, -2.4312,  0.9010]])\n",
      "tensor([[0.9844, 0.1806, 0.1119, 0.7647],\n",
      "        [0.1661, 0.5646, 0.7710, 0.0682]])\n",
      "tensor([[1., 0., 0.],\n",
      "        [0., 1., 0.],\n",
      "        [0., 0., 1.]])\n",
      "tensor([[0.6284, 0.0000, 0.0000],\n",
      "        [0.0000, 0.3021, 0.0000],\n",
      "        [0.0000, 0.0000, 0.2384]])\n"
     ]
    }
   ],
   "source": [
    "x = torch.empty(size=(2,4))\n",
    "print(x)\n",
    "\n",
    "x = torch.zeros(size=(3,2))\n",
    "print(x)\n",
    "\n",
    "x = torch.rand(size=(2,2))\n",
    "print(x)\n",
    "\n",
    "x = torch.ones(size=(2,2))\n",
    "print(x)\n",
    "\n",
    "x = torch.eye(3,5)\n",
    "print(x)\n",
    "\n",
    "x = torch.arange(start=0, end=5, step=1)\n",
    "print(x)\n",
    "\n",
    "x = torch.linspace(start=0.1, end=1, steps=3)\n",
    "print(x)\n",
    "\n",
    "x = torch.empty(size=(2,4)).normal_(mean=0, std=1)\n",
    "print(x)\n",
    "\n",
    "x = torch.empty(size=(2,4)).uniform_(0, 1)\n",
    "print(x)\n",
    "\n",
    "x = torch.diag(torch.ones(3))\n",
    "print(x)\n",
    "\n",
    "x = torch.diag(torch.rand(3))\n",
    "print(x)"
   ]
  },
  {
   "cell_type": "markdown",
   "metadata": {},
   "source": [
    "#### INITIALIZE AND CONVERT TENSORS TO OTHER TYPES"
   ]
  },
  {
   "cell_type": "code",
   "execution_count": 100,
   "metadata": {},
   "outputs": [
    {
     "name": "stdout",
     "output_type": "stream",
     "text": [
      "tensor([0, 1, 2, 3])\n",
      "tensor([False,  True,  True,  True])\n",
      "tensor([0, 1, 2, 3], dtype=torch.int16)\n",
      "tensor([0, 1, 2, 3])\n",
      "tensor([0., 1., 2., 3.], dtype=torch.float16)\n",
      "tensor([0., 1., 2., 3.])\n",
      "tensor([0., 1., 2., 3.], dtype=torch.float64)\n"
     ]
    }
   ],
   "source": [
    "\n",
    "tensor = torch.arange(4)\n",
    "print(tensor)\n",
    "# to bool\n",
    "print(tensor.bool())\n",
    "\n",
    "# to int16\n",
    "print(tensor.short())\n",
    "\n",
    "# to int64\n",
    "print(tensor.long())\n",
    "\n",
    "# to GTX20+ SERIES float16\n",
    "print(tensor.half())\n",
    "\n",
    "# to=float32\n",
    "print(tensor.float())\n",
    "\n",
    "# to=float64\n",
    "print(tensor.double())"
   ]
  },
  {
   "cell_type": "code",
   "execution_count": 101,
   "metadata": {},
   "outputs": [
    {
     "name": "stdout",
     "output_type": "stream",
     "text": [
      "[[0. 0. 0. 0. 0.]\n",
      " [0. 0. 0. 0. 0.]\n",
      " [0. 0. 0. 0. 0.]\n",
      " [0. 0. 0. 0. 0.]\n",
      " [0. 0. 0. 0. 0.]]\n",
      "tensor([[0., 0., 0., 0., 0.],\n",
      "        [0., 0., 0., 0., 0.],\n",
      "        [0., 0., 0., 0., 0.],\n",
      "        [0., 0., 0., 0., 0.],\n",
      "        [0., 0., 0., 0., 0.]], dtype=torch.float64)\n",
      "[[0. 0. 0. 0. 0.]\n",
      " [0. 0. 0. 0. 0.]\n",
      " [0. 0. 0. 0. 0.]\n",
      " [0. 0. 0. 0. 0.]\n",
      " [0. 0. 0. 0. 0.]]\n"
     ]
    }
   ],
   "source": [
    "import numpy as np\n",
    "np_array = np.zeros([5,5])\n",
    "print(np_array)\n",
    "t = torch.from_numpy(np_array)\n",
    "print(t)\n",
    "np_arr_back = t.numpy()\n",
    "print(np_arr_back)"
   ]
  },
  {
   "cell_type": "markdown",
   "metadata": {},
   "source": [
    "---\n",
    "\n",
    "## [2] TENSOR MATH COMPARISON"
   ]
  },
  {
   "cell_type": "code",
   "execution_count": 102,
   "metadata": {},
   "outputs": [
    {
     "name": "stdout",
     "output_type": "stream",
     "text": [
      "tensor([10., 10., 10.])\n",
      "tensor([10, 10, 10])\n",
      "tensor([-8, -6, -4])\n",
      "tensor([1., 2., 3.])\n",
      "tensor([2., 4., 6.])\n",
      "tensor([1, 4, 9])\n",
      "tensor([1, 4, 9])\n"
     ]
    }
   ],
   "source": [
    "x = torch.tensor([1, 2, 3])\n",
    "y = torch.tensor([9, 8, 7])\n",
    "\n",
    "# Addition\n",
    "z1 = torch.empty(3)\n",
    "torch.add(x,y, out=z1)\n",
    "print(z1)\n",
    "\n",
    "z2 = torch.add(x,y)\n",
    "print(z2)\n",
    "\n",
    "# Subtraction\n",
    "z = x - y\n",
    "print(z)\n",
    "\n",
    "# Division\n",
    "z = torch.true_divide(x, y)\n",
    "\n",
    "# inplace operations\n",
    "t = torch.zeros(3)\n",
    "t.add_(x)\n",
    "print(t)\n",
    "t +=x\n",
    "print(t)\n",
    "\n",
    "# Exponentiation\n",
    "z = x.pow(2)\n",
    "print(z)\n",
    "z = x ** 2\n",
    "print(z)"
   ]
  },
  {
   "cell_type": "code",
   "execution_count": 103,
   "metadata": {},
   "outputs": [
    {
     "name": "stdout",
     "output_type": "stream",
     "text": [
      "tensor([True, True, True])\n",
      "tensor([False, False, False])\n"
     ]
    }
   ],
   "source": [
    "# Simple comparison\n",
    "z = x > 0\n",
    "print(z)\n",
    "z = x < 0\n",
    "print(z)"
   ]
  },
  {
   "cell_type": "code",
   "execution_count": 104,
   "metadata": {},
   "outputs": [
    {
     "name": "stdout",
     "output_type": "stream",
     "text": [
      "tensor([[0.0111, 0.5535, 0.7304, 0.3213, 0.6833],\n",
      "        [0.4622, 0.2361, 0.2134, 0.5512, 0.4845]])\n",
      "tensor([[0.0472, 0.2002, 0.1757],\n",
      "        [0.1985, 0.6147, 0.5498],\n",
      "        [0.1631, 0.2351, 0.9611],\n",
      "        [0.5102, 0.7476, 0.2842],\n",
      "        [0.2781, 0.3732, 0.5061]])\n",
      "\n",
      "tensor([[0.5835, 1.0093, 1.4454],\n",
      "        [0.5195, 0.8807, 0.8180]])\n",
      "tensor([[0.5835, 1.0093, 1.4454],\n",
      "        [0.5195, 0.8807, 0.8180]])\n"
     ]
    }
   ],
   "source": [
    "# Matrix Multiplicatoin\n",
    "x1 = torch.rand((2, 5))\n",
    "print(x1)\n",
    "x2 = torch.rand((5, 3))\n",
    "print(x2)\n",
    "print()\n",
    "x3 = torch.mm(x1, x2)\n",
    "print(x3)\n",
    "x3 = x1.mm(x2)\n",
    "print(x3)"
   ]
  },
  {
   "cell_type": "code",
   "execution_count": 105,
   "metadata": {},
   "outputs": [
    {
     "name": "stdout",
     "output_type": "stream",
     "text": [
      "tensor([ 9, 16, 21])\n"
     ]
    }
   ],
   "source": [
    "# Matrix Exponentiation\n",
    "z = x * y\n",
    "print(z)"
   ]
  },
  {
   "cell_type": "code",
   "execution_count": 106,
   "metadata": {},
   "outputs": [
    {
     "name": "stdout",
     "output_type": "stream",
     "text": [
      "tensor(46)\n"
     ]
    }
   ],
   "source": [
    "# Dot Product\n",
    "z = torch.dot(x, y)\n",
    "print(z)"
   ]
  },
  {
   "cell_type": "code",
   "execution_count": 107,
   "metadata": {},
   "outputs": [],
   "source": [
    "# Batch Matrix Multiplication\n",
    "batch = 32\n",
    "n = 10\n",
    "m = 20\n",
    "p = 30\n",
    "\n",
    "tensor1 = torch.rand((batch, n, m))\n",
    "tensor2 = torch.rand((batch, m, p))\n",
    "out_bmm = torch.bmm(tensor1, tensor2) # (batch, n ,p)"
   ]
  },
  {
   "cell_type": "code",
   "execution_count": 108,
   "metadata": {},
   "outputs": [
    {
     "name": "stdout",
     "output_type": "stream",
     "text": [
      "tensor([[ 0.4231, -0.2160, -0.3311,  0.7090,  0.2294],\n",
      "        [ 0.4849, -0.1671,  0.5297,  0.0828,  0.3464],\n",
      "        [-0.0661, -0.2243,  0.0735,  0.2221,  0.2755],\n",
      "        [ 0.2120, -0.6435, -0.0284,  0.4647,  0.2688],\n",
      "        [ 0.1056, -0.0543, -0.2665,  0.0379,  0.6752]])\n",
      "tensor([[0.9562, 0.6047, 0.3465, 0.9925, 0.8378],\n",
      "        [0.9874, 0.6467, 0.9725, 0.9473, 0.8819],\n",
      "        [0.6566, 0.5974, 0.7418, 0.9666, 0.8562],\n",
      "        [0.8407, 0.1422, 0.6732, 0.9828, 0.8536],\n",
      "        [0.7756, 0.7395, 0.4483, 0.9349, 0.9764]])\n"
     ]
    }
   ],
   "source": [
    "# Example of Broadcasting\n",
    "x1 = torch.rand((5, 5))\n",
    "x2 = torch.rand((1, 5))\n",
    "\n",
    "z = x1 - x2\n",
    "print(z)\n",
    "\n",
    "z = x1 ** x2\n",
    "print(z)"
   ]
  },
  {
   "cell_type": "code",
   "execution_count": 111,
   "metadata": {},
   "outputs": [
    {
     "name": "stdout",
     "output_type": "stream",
     "text": [
      "tensor([1, 2, 3])\n",
      "tensor([9, 8, 7])\n",
      "tensor(6)\n",
      "tensor([1, 2, 3])\n",
      "tensor(2)\n",
      "tensor(2.)\n",
      "tensor([False, False, False])\n",
      "tensor([7, 8, 9])\n",
      "tensor([1, 2, 3])\n",
      "tensor([ True, False,  True,  True,  True])\n",
      "tensor(True)\n",
      "tensor(False)\n"
     ]
    }
   ],
   "source": [
    "# Other tensor operations\n",
    "print(x)\n",
    "print(y)\n",
    "\n",
    "sum_x = torch.sum(x, dim=0)\n",
    "print(sum_x)\n",
    "\n",
    "values, indices = torch.max(x, dim=0)\n",
    "values, indices = torch.min(x, dim=0)\n",
    "abs_x = torch.abs(x)\n",
    "print(abs_x)\n",
    "\n",
    "z = torch.argmax(x, dim=0)\n",
    "print(z)\n",
    "\n",
    "mean_x = torch.mean(x.float(), dim=0)\n",
    "print(mean_x)\n",
    "\n",
    "z = torch.eq(x, y)\n",
    "print(z)\n",
    "\n",
    "sorted_y, indices = torch.sort(y, dim=0, descending=False)\n",
    "print(sorted_y)\n",
    "\n",
    "z = torch.clamp(x, min=0)\n",
    "print(z)\n",
    "\n",
    "\n",
    "xe = torch.tensor([1,0,1,1,1], dtype=torch.bool)\n",
    "print(xe)\n",
    "z = torch.any(xe)\n",
    "print(z)\n",
    "z = torch.all(xe)\n",
    "print(z)"
   ]
  },
  {
   "cell_type": "markdown",
   "metadata": {},
   "source": [
    "---\n",
    "\n",
    "## [3] TENSOR INDEXING"
   ]
  },
  {
   "cell_type": "code",
   "execution_count": 116,
   "metadata": {},
   "outputs": [
    {
     "name": "stdout",
     "output_type": "stream",
     "text": [
      "tensor([0.5869, 0.4874, 0.0774, 0.0972, 0.5640, 0.3625, 0.9628, 0.0314, 0.1447,\n",
      "        0.8513, 0.8807, 0.0196, 0.2675, 0.8155, 0.9427, 0.4994, 0.9091, 0.6812,\n",
      "        0.3687, 0.5001, 0.1317, 0.5315, 0.8177, 0.9099, 0.3565])\n",
      "tensor([0.5869, 0.9958, 0.7690, 0.0202, 0.9443, 0.0072, 0.7464, 0.4991, 0.4456,\n",
      "        0.4877])\n",
      "tensor([0.7690, 0.0726, 0.3442, 0.3542, 0.9857, 0.7030, 0.5595, 0.5516, 0.2979,\n",
      "        0.5484])\n"
     ]
    }
   ],
   "source": [
    "batch_size = 10\n",
    "features = 25\n",
    "x = torch.rand([batch_size, features])\n",
    "\n",
    "# x[0, :1]\n",
    "print(x[0])\n",
    "\n",
    "# first features of all exaples\n",
    "print(x[:, 0])\n",
    "\n",
    "# get third exaple, first 10 features 0:10 -> [0,1,..8,9]\n",
    "print(x[2, 0:10])\n",
    "\n",
    "#assignemnt\n",
    "x[0,0] = 100"
   ]
  },
  {
   "cell_type": "code",
   "execution_count": 120,
   "metadata": {},
   "outputs": [
    {
     "name": "stdout",
     "output_type": "stream",
     "text": [
      "tensor([0, 1, 2, 3, 4, 5, 6, 7, 8, 9])\n",
      "tensor([2, 5, 8])\n",
      "tensor([[0.2281, 0.0016, 0.6040, 0.4410, 0.2619],\n",
      "        [0.6839, 0.3381, 0.9519, 0.2881, 0.9389],\n",
      "        [0.3934, 0.8062, 0.1746, 0.2786, 0.6788]])\n",
      "torch.Size([2])\n"
     ]
    }
   ],
   "source": [
    "# Fancy indexing\n",
    "x = torch.arange(10)\n",
    "print(x)\n",
    "\n",
    "indices = [2,5,8]\n",
    "print(x[indices])\n",
    "\n",
    "\n",
    "x = torch.rand((3,5))\n",
    "print(x)\n",
    "rows = torch.tensor([1,0])\n",
    "cols = torch.tensor([4,0])\n",
    "print(x[rows, cols].shape)"
   ]
  },
  {
   "cell_type": "code",
   "execution_count": 126,
   "metadata": {},
   "outputs": [
    {
     "name": "stdout",
     "output_type": "stream",
     "text": [
      "tensor([0, 1, 2, 3, 4, 5, 6, 7, 8, 9])\n",
      "tensor([0, 1, 9])\n",
      "tensor([], dtype=torch.int64)\n",
      "tensor([0, 2, 4, 6, 8])\n"
     ]
    }
   ],
   "source": [
    "# Advanced indexing\n",
    "x = torch.arange(10)\n",
    "print(x)\n",
    "print(x[(x<2) | (x>8)])\n",
    "print(x[(x<2) & (x>8)])\n",
    "print(x[x.remainder(2) == 0])"
   ]
  },
  {
   "cell_type": "code",
   "execution_count": 130,
   "metadata": {},
   "outputs": [
    {
     "name": "stdout",
     "output_type": "stream",
     "text": [
      "tensor([ 0,  2,  4,  6,  8, 10,  6,  7,  8,  9])\n",
      "tensor([ 0,  1,  2,  3,  4, 24])\n",
      "1\n",
      "10\n"
     ]
    }
   ],
   "source": [
    "# Useful operations\n",
    "print(torch.where(x>5, x, x*2))\n",
    "\n",
    "print(torch.tensor([0,3,24,1,3,4,4,2,3]).unique())\n",
    "\n",
    "print(x.ndimension()) # single vector = simgle dimension\n",
    "\n",
    "print(x.numel())"
   ]
  },
  {
   "cell_type": "markdown",
   "metadata": {},
   "source": [
    "---\n",
    "\n",
    "## [4] TENSOR RESHAPING"
   ]
  },
  {
   "cell_type": "code",
   "execution_count": 132,
   "metadata": {},
   "outputs": [
    {
     "name": "stdout",
     "output_type": "stream",
     "text": [
      "tensor([0, 1, 2, 3, 4, 5, 6, 7, 8])\n",
      "tensor([[0, 1, 2],\n",
      "        [3, 4, 5],\n",
      "        [6, 7, 8]])\n",
      "tensor([[0, 1, 2],\n",
      "        [3, 4, 5],\n",
      "        [6, 7, 8]])\n"
     ]
    }
   ],
   "source": [
    "x = torch.arange(9)\n",
    "print(x)\n",
    "\n",
    "# contiguous tensor in memory\n",
    "x_3x3 = x.view(3, 3)\n",
    "print(x_3x3)\n",
    "\n",
    "# safer, but performance loss compared to view\n",
    "x_3x3 = x.reshape(3, 3)\n",
    "print(x_3x3)\n"
   ]
  },
  {
   "cell_type": "code",
   "execution_count": 135,
   "metadata": {},
   "outputs": [
    {
     "name": "stdout",
     "output_type": "stream",
     "text": [
      "tensor([[0, 3, 6],\n",
      "        [1, 4, 7],\n",
      "        [2, 5, 8]])\n",
      "tensor([0, 3, 6, 1, 4, 7, 2, 5, 8])\n"
     ]
    }
   ],
   "source": [
    "# Advanced\n",
    "y = x_3x3.t() # transposed\n",
    "print(y)\n",
    "\n",
    "#print(y.view(9))\n",
    "\n",
    "print(y.contiguous().view(9))"
   ]
  },
  {
   "cell_type": "code",
   "execution_count": 137,
   "metadata": {},
   "outputs": [
    {
     "name": "stdout",
     "output_type": "stream",
     "text": [
      "torch.Size([4, 5])\n",
      "torch.Size([2, 10])\n",
      "tensor([0.2494, 0.0966, 0.9621, 0.0216, 0.4436, 0.0032, 0.3570, 0.3868, 0.3764,\n",
      "        0.3326])\n"
     ]
    }
   ],
   "source": [
    "x1 = torch.rand((2, 5))\n",
    "x2 = torch.rand((2, 5))\n",
    "\n",
    "# concatenate\n",
    "print(torch.cat((x1, x2), dim=0).shape)\n",
    "print(torch.cat((x1, x2), dim=1).shape)\n",
    "\n",
    "# flattening\n",
    "z = x1.view(-1)\n",
    "print(z)"
   ]
  },
  {
   "cell_type": "code",
   "execution_count": 140,
   "metadata": {},
   "outputs": [
    {
     "name": "stdout",
     "output_type": "stream",
     "text": [
      "torch.Size([64, 10])\n",
      "torch.Size([64, 5, 2])\n"
     ]
    }
   ],
   "source": [
    "# Adding complexity\n",
    "batch = 64\n",
    "x = torch.rand((batch, 2, 5))\n",
    "z = x.view(batch, -1)\n",
    "print(z.shape)\n",
    "\n",
    "z = x.permute(0, 2, 1)\n",
    "print(z.shape)"
   ]
  },
  {
   "cell_type": "code",
   "execution_count": 141,
   "metadata": {},
   "outputs": [
    {
     "name": "stdout",
     "output_type": "stream",
     "text": [
      "torch.Size([1, 10])\n",
      "torch.Size([10, 1])\n"
     ]
    }
   ],
   "source": [
    "x = torch.arange(10)\n",
    "print(x.unsqueeze(0).shape)\n",
    "print(x.unsqueeze(1).shape)"
   ]
  },
  {
   "cell_type": "code",
   "execution_count": 146,
   "metadata": {},
   "outputs": [
    {
     "name": "stdout",
     "output_type": "stream",
     "text": [
      "torch.Size([1, 1, 10])\n",
      "tensor([[[0, 1, 2, 3, 4, 5, 6, 7, 8, 9]]])\n"
     ]
    }
   ],
   "source": [
    "x = torch.arange(10).unsqueeze(0).unsqueeze(1)\n",
    "print(x.shape)\n",
    "print(x)\n"
   ]
  },
  {
   "cell_type": "code",
   "execution_count": 147,
   "metadata": {},
   "outputs": [
    {
     "name": "stdout",
     "output_type": "stream",
     "text": [
      "torch.Size([1, 10])\n",
      "tensor([[0, 1, 2, 3, 4, 5, 6, 7, 8, 9]])\n"
     ]
    }
   ],
   "source": [
    "z = x.squeeze(1)\n",
    "print(z.shape)\n",
    "print(z)"
   ]
  }
 ],
 "metadata": {
  "kernelspec": {
   "display_name": "Python 3",
   "language": "python",
   "name": "python3"
  },
  "language_info": {
   "codemirror_mode": {
    "name": "ipython",
    "version": 3
   },
   "file_extension": ".py",
   "mimetype": "text/x-python",
   "name": "python",
   "nbconvert_exporter": "python",
   "pygments_lexer": "ipython3",
   "version": "3.11.6"
  }
 },
 "nbformat": 4,
 "nbformat_minor": 2
}
