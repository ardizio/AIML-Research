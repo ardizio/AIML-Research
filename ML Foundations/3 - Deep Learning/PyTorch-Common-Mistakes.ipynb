{
 "cells": [
  {
   "cell_type": "markdown",
   "metadata": {},
   "source": [
    "1. Didn't Overfit  single Batch"
   ]
  },
  {
   "cell_type": "code",
   "execution_count": null,
   "metadata": {},
   "outputs": [],
   "source": [
    "## Before training\n",
    "\n",
    "data, target = next(iter(train_loader))\n",
    "\n",
    "for epoch in range(NUM_EPOCHS):\n",
    "    # DATA TO CUDA\n",
    "    data = data.to(device=DEVICE)\n",
    "    targets = targets.to(device=DEVICE)\n",
    "    # CORRECT DATA SHAPE\n",
    "    data = data.reshape(data.shape[0],-1)\n",
    "    # FORWARD\n",
    "    scores = model(data)\n",
    "    loss = criterion(scores, targets)\n",
    "    # BACKWARD\n",
    "    optimizer.zero_grad()\n",
    "    loss.backward()\n",
    "    # GRADIENT DESCENT OR ADAM STEP\n",
    "    optimizer.step()"
   ]
  }
 ],
 "metadata": {
  "language_info": {
   "name": "python"
  }
 },
 "nbformat": 4,
 "nbformat_minor": 2
}
