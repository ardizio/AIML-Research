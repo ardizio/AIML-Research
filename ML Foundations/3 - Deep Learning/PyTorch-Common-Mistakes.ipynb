{
 "cells": [
  {
   "cell_type": "markdown",
   "metadata": {},
   "source": [
    "1. Overfit a single Batch"
   ]
  },
  {
   "cell_type": "code",
   "execution_count": null,
   "metadata": {},
   "outputs": [],
   "source": [
    "## Before training\n",
    "\n",
    "data, target = next(iter(train_loader))\n",
    "\n",
    "for epoch in range(NUM_EPOCHS):\n",
    "    # DATA TO CUDA\n",
    "    data = data.to(device=DEVICE)\n",
    "    targets = targets.to(device=DEVICE)\n",
    "    # CORRECT DATA SHAPE\n",
    "    data = data.reshape(data.shape[0],-1)\n",
    "    # FORWARD\n",
    "    scores = model(data)\n",
    "    loss = criterion(scores, targets)\n",
    "    # BACKWARD\n",
    "    optimizer.zero_grad()\n",
    "    loss.backward()\n",
    "    # GRADIENT DESCENT OR ADAM STEP\n",
    "    optimizer.step()"
   ]
  },
  {
   "cell_type": "markdown",
   "metadata": {},
   "source": [
    "2. Forgot to set training or eval\n",
    "\n",
    "While checking accuracy do eval before testing it"
   ]
  },
  {
   "cell_type": "code",
   "execution_count": null,
   "metadata": {},
   "outputs": [],
   "source": [
    "# WORSE\n",
    "check_accuracy(test_loader, model)\n",
    "model.train()\n",
    "\n",
    "## BETTER\n",
    "model.eval() #appropriate scaling, and dropout\n",
    "check_accuracy(test_loader, model)\n",
    "model.train()"
   ]
  },
  {
   "cell_type": "markdown",
   "metadata": {},
   "source": [
    "3. Forgot to zero grad\n",
    "We want the gradient to be of the current batch, we don't want to accumulate it"
   ]
  },
  {
   "cell_type": "code",
   "execution_count": null,
   "metadata": {},
   "outputs": [],
   "source": [
    "for epoch in range(NUM_EPOCHS)\n",
    "    # BACKWARD\n",
    "    optimizer.zero_grad()\n",
    "    loss.backward()\n"
   ]
  },
  {
   "cell_type": "markdown",
   "metadata": {},
   "source": [
    "4. Use softmax with cross entropy loss"
   ]
  },
  {
   "cell_type": "code",
   "execution_count": null,
   "metadata": {},
   "outputs": [],
   "source": [
    "class NN(nn.Module):\n",
    "    def __init__(self, input_size, num_classes):\n",
    "        super(NN, self).__init__()\n",
    "        self.fc1 = nn.Linear(input_size, 50)\n",
    "        self.fc2 = nn.Linear(50, num_classes)\n",
    "        self.dropout = nn.Dropout(0.5)\n",
    "        self.softmax = nn.SoftMax(dim=1)\n",
    "\n",
    "    def forward(self, x):\n",
    "        x = self.dropout(F.relu(self.fc1(x)))\n",
    "        x = self.softmax(self.fc2(x))\n",
    "        return x\n",
    "    \n",
    "criterion = nn.CrossEntropyLoss()"
   ]
  }
 ],
 "metadata": {
  "language_info": {
   "name": "python"
  }
 },
 "nbformat": 4,
 "nbformat_minor": 2
}
