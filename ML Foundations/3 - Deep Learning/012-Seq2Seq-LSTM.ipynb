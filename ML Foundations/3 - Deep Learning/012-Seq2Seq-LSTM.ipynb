{
 "cells": [
  {
   "cell_type": "markdown",
   "metadata": {},
   "source": [
    "# Seq2Seq LSTM\n",
    "\n",
    "![Seq2Seq](https://raw.githubusercontent.com/bentrevett/pytorch-seq2seq/eff9642693c3d83c497a791e80a34e740874f5cd/assets/seq2seq7.png)\n",
    "\n",
    "The left part is an LST called `Ecoder`. It takes as input a german sentence.\n",
    "\n",
    "It will produce the `z` red box, called `Context Vector`.\n",
    "\n",
    "`z` will be the input of the right LSTM `Decoder`.\n",
    "\n",
    "It takes a input and cell by cell it will produce and output translated sentence.\n"
   ]
  }
 ],
 "metadata": {
  "language_info": {
   "name": "python"
  }
 },
 "nbformat": 4,
 "nbformat_minor": 2
}
