{
 "cells": [
  {
   "cell_type": "markdown",
   "metadata": {
    "slideshow": {
     "slide_type": "slide"
    }
   },
   "source": [
    "## PART I\n",
    "\n",
    "*   How to **download** a dataset.\n",
    "*   How to **inspect** a dataset."
   ]
  },
  {
   "cell_type": "markdown",
   "metadata": {
    "slideshow": {
     "slide_type": "slide"
    }
   },
   "source": [
    "## PART II\n",
    "\n",
    "* How to perform basic **text pre-processing** to identify input features."
   ]
  },
  {
   "cell_type": "markdown",
   "metadata": {
    "slideshow": {
     "slide_type": "slide"
    }
   },
   "source": [
    "## PART III\n",
    "\n",
    "*   How to **train a classifier** on identified input features for sentiment classification.\n",
    "*   How to **evaluate** model performance and **inspect** its predictions."
   ]
  },
  {
   "cell_type": "markdown",
   "metadata": {
    "slideshow": {
     "slide_type": "slide"
    }
   },
   "source": [
    "## Task\n",
    "\n",
    "We consider the task of **document classification**.\n",
    "\n",
    "Specifically, we consider document **sentiment analysis** on movie reviews."
   ]
  },
  {
   "cell_type": "markdown",
   "metadata": {
    "id": "c4-E45fvrp3Z",
    "slideshow": {
     "slide_type": "slide"
    }
   },
   "source": [
    "## Preliminaries\n",
    "\n",
    "First of all, we need to import some useful packages that we will use during this hands-on session."
   ]
  },
  {
   "cell_type": "code",
   "execution_count": 35,
   "metadata": {
    "id": "of3D92OeWV8_",
    "scrolled": false,
    "slideshow": {
     "slide_type": "subslide"
    }
   },
   "outputs": [],
   "source": [
    "# file management\n",
    "import sys\n",
    "import shutil\n",
    "import urllib\n",
    "import tarfile\n",
    "from pathlib import Path\n",
    "\n",
    "# dataframe management\n",
    "import pandas as pd\n",
    "\n",
    "# data manipulation\n",
    "import numpy as np\n",
    "\n",
    "# for readability\n",
    "from typing import Iterable\n",
    "from tqdm import tqdm"
   ]
  },
  {
   "cell_type": "code",
   "execution_count": 36,
   "metadata": {
    "slideshow": {
     "slide_type": "subslide"
    }
   },
   "outputs": [
    {
     "data": {
      "text/plain": [
       "\" from notebook.services.config import ConfigManager\\ncm = ConfigManager()\\ncm.update('livereveal', {\\n        'width': 1024,\\n        'height': 768,\\n        'scroll': True,\\n}) \""
      ]
     },
     "execution_count": 36,
     "metadata": {},
     "output_type": "execute_result"
    }
   ],
   "source": [
    "#live reveal extension\n",
    "\"\"\" from notebook.services.config import ConfigManager\n",
    "cm = ConfigManager()\n",
    "cm.update('livereveal', {\n",
    "        'width': 1024,\n",
    "        'height': 768,\n",
    "        'scroll': True,\n",
    "}) \"\"\""
   ]
  },
  {
   "cell_type": "markdown",
   "metadata": {
    "id": "ARCKuf1S5GKg",
    "slideshow": {
     "slide_type": "slide"
    }
   },
   "source": [
    "# 1. Downloading the dataset"
   ]
  },
  {
   "cell_type": "markdown",
   "metadata": {
    "id": "d--rS8W95i62",
    "slideshow": {
     "slide_type": "subslide"
    }
   },
   "source": [
    "We download the IMDB movie reviews dataset."
   ]
  },
  {
   "cell_type": "code",
   "execution_count": 37,
   "metadata": {
    "scrolled": false,
    "slideshow": {
     "slide_type": "fragment"
    }
   },
   "outputs": [],
   "source": [
    "class DownloadProgressBar(tqdm):\n",
    "    def update_to(self, b=1, bsize=1, tsize=None):\n",
    "        if tsize is not None:\n",
    "            self.total = tsize\n",
    "        self.update(b * bsize - self.n)\n",
    "\n",
    "def download_url(download_path: Path, url: str):\n",
    "    with DownloadProgressBar(unit='B', unit_scale=True,\n",
    "                             miniters=1, desc=url.split('/')[-1]) as t:\n",
    "        urllib.request.urlretrieve(url, filename=download_path, reporthook=t.update_to)\n",
    "\n",
    "        \n",
    "def download_dataset(download_path: Path, url: str):\n",
    "    print(\"Downloading dataset...\")\n",
    "    download_url(url=url, download_path=download_path)\n",
    "    print(\"Download complete!\")\n",
    "\n",
    "def extract_dataset(download_path: Path, extract_path: Path):\n",
    "    print(\"Extracting dataset... (it may take a while...)\")\n",
    "    with tarfile.open(download_path) as loaded_tar:\n",
    "        loaded_tar.extractall(extract_path)\n",
    "    print(\"Extraction completed!\")"
   ]
  },
  {
   "cell_type": "code",
   "execution_count": 38,
   "metadata": {
    "id": "NSvqBcKJ7iTY",
    "scrolled": true,
    "slideshow": {
     "slide_type": "subslide"
    }
   },
   "outputs": [
    {
     "name": "stdout",
     "output_type": "stream",
     "text": [
      "Current work directory: c:\\Users\\ardiz\\OneDrive\\Desktop\\Projects\\AIML-Research\\ML Foundations\\4 - NLP\\UniBo\\T1-PreProcessing-TextClassification-ErrorAnalysis\n"
     ]
    }
   ],
   "source": [
    "url = \"http://ai.stanford.edu/~amaas/data/sentiment/aclImdb_v1.tar.gz\"\n",
    "dataset_name = \"aclImdb\"\n",
    "\n",
    "print(f\"Current work directory: {Path.cwd()}\")\n",
    "dataset_folder = Path.cwd().joinpath(\"datasets\")\n",
    "\n",
    "if not dataset_folder.exists():\n",
    "    dataset_folder.mkdir(parents=True)\n",
    "\n",
    "dataset_tar_path = dataset_folder.joinpath(\"Movies.tar.gz\")\n",
    "dataset_path = dataset_folder.joinpath(dataset_name)\n",
    "\n",
    "if not dataset_tar_path.exists():\n",
    "    download_dataset(dataset_tar_path, url)\n",
    "\n",
    "if not dataset_path.exists():\n",
    "    extract_dataset(dataset_tar_path, dataset_folder)"
   ]
  },
  {
   "cell_type": "markdown",
   "metadata": {
    "id": "I3f93BOW3ziB",
    "slideshow": {
     "slide_type": "subslide"
    }
   },
   "source": [
    "Let's have a look at the files we have downloaded to understand the dataset structure."
   ]
  },
  {
   "cell_type": "code",
   "execution_count": 39,
   "metadata": {
    "colab": {
     "base_uri": "https://localhost:8080/"
    },
    "id": "MlC6O8M1ITgp",
    "outputId": "a9ecbb13-5d51-4ac8-faf4-018b7c5a7df0",
    "scrolled": false,
    "slideshow": {
     "slide_type": "fragment"
    }
   },
   "outputs": [
    {
     "name": "stdout",
     "output_type": "stream",
     "text": [
      "Bromwell High is a cartoon comedy. It ran at the same time as some other programs about school life, such as \"Teachers\". My 35 years in the teaching profession lead me to believe that Bromwell High's satire is much closer to reality than is \"Teachers\". The scramble to survive financially, the insightful students who can see right through their pathetic teachers' pomp, the pettiness of the whole situation, all remind me of the schools I knew and their students. When I saw the episode in which a student repeatedly tried to burn down the school, I immediately recalled ......... at .......... High. A classic line: INSPECTOR: I'm here to sack one of your teachers. STUDENT: Welcome to Bromwell High. I expect that many adults of my age think that Bromwell High is far fetched. What a pity that it isn't!\n"
     ]
    }
   ],
   "source": [
    "# an example\n",
    "file_path = dataset_folder.joinpath(dataset_name, 'train', 'pos', \"0_9.txt\")\n",
    "\n",
    "if file_path.is_file():\n",
    "    # open the file\n",
    "    with file_path.open(mode='r', encoding='utf-8') as text_file:\n",
    "        text = text_file.read()\n",
    "        print(text)"
   ]
  },
  {
   "cell_type": "markdown",
   "metadata": {
    "id": "-FexYdgu87Q3",
    "slideshow": {
     "slide_type": "slide"
    }
   },
   "source": [
    "## 1.1 Encode the dataset into a pandas.DataFrame\n",
    "\n",
    "We encode the loaded dataset into a dataframe to better access to its content."
   ]
  },
  {
   "cell_type": "code",
   "execution_count": 40,
   "metadata": {
    "colab": {
     "base_uri": "https://localhost:8080/"
    },
    "id": "4u8aN92x9Aw1",
    "outputId": "06f7b1a8-d72c-4e17-f347-7cce3318b31d",
    "scrolled": false,
    "slideshow": {
     "slide_type": "subslide"
    }
   },
   "outputs": [],
   "source": [
    "dataframe_rows = []\n",
    "\n",
    "for split in ['train', 'test']:\n",
    "    for sentiment in ['pos', 'neg']:\n",
    "        folder = dataset_folder.joinpath(dataset_name, split, sentiment)\n",
    "        for file_path in folder.glob('*.txt'):            \n",
    "            with file_path.open(mode='r', encoding='utf-8') as text_file:\n",
    "                text = text_file.read()\n",
    "                score = file_path.stem.split(\"_\")[1]\n",
    "                score = int(score)\n",
    "                file_id = file_path.stem.split(\"_\")[0]\n",
    "\n",
    "                num_sentiment = 1 if sentiment == 'pos' else 0\n",
    "\n",
    "                dataframe_row = {\n",
    "                    \"file_id\": file_id,\n",
    "                    \"score\": score,\n",
    "                    \"sentiment\": num_sentiment,\n",
    "                    \"split\": split,\n",
    "                    \"text\": text\n",
    "                }\n",
    "\n",
    "                dataframe_rows.append(dataframe_row)"
   ]
  },
  {
   "cell_type": "code",
   "execution_count": 41,
   "metadata": {
    "scrolled": false,
    "slideshow": {
     "slide_type": "subslide"
    }
   },
   "outputs": [],
   "source": [
    "folder = Path.cwd().joinpath(\"datasets\", \"dataframes\", dataset_name)\n",
    "if not folder.exists():\n",
    "    folder.mkdir(parents=True)\n",
    "\n",
    "# transform the list of rows in a proper dataframe\n",
    "df = pd.DataFrame(dataframe_rows)\n",
    "df = df[[\"file_id\", \n",
    "         \"score\",\n",
    "         \"sentiment\",\n",
    "         \"split\",\n",
    "         \"text\"]\n",
    "       ]\n",
    "df_path = folder.with_name(dataset_name + \".pkl\")\n",
    "df.to_pickle(df_path)"
   ]
  },
  {
   "cell_type": "markdown",
   "metadata": {
    "id": "N90TSajWZD2Z",
    "slideshow": {
     "slide_type": "slide"
    }
   },
   "source": [
    "## 1.2 Inspecting the dataset\n",
    "\n",
    "We first have a look at the dataframe structure."
   ]
  },
  {
   "cell_type": "code",
   "execution_count": 42,
   "metadata": {
    "colab": {
     "base_uri": "https://localhost:8080/"
    },
    "id": "GCs9IEO5F-Vt",
    "outputId": "ba1a3f1f-b218-43d2-cf9a-6ed25fc59a49",
    "scrolled": true,
    "slideshow": {
     "slide_type": "subslide"
    }
   },
   "outputs": [
    {
     "name": "stdout",
     "output_type": "stream",
     "text": [
      "Dataframe structure:\n",
      "      file_id  score  sentiment  split  \\\n",
      "0           0      9          1  train   \n",
      "1       10000      8          1  train   \n",
      "2       10001     10          1  train   \n",
      "3       10002      7          1  train   \n",
      "4       10003      8          1  train   \n",
      "...       ...    ...        ...    ...   \n",
      "49995    9998      1          0   test   \n",
      "49996    9999      1          0   test   \n",
      "49997     999      3          0   test   \n",
      "49998      99      3          0   test   \n",
      "49999       9      4          0   test   \n",
      "\n",
      "                                                    text  \n",
      "0      Bromwell High is a cartoon comedy. It ran at t...  \n",
      "1      Homelessness (or Houselessness as George Carli...  \n",
      "2      Brilliant over-acting by Lesley Ann Warren. Be...  \n",
      "3      This is easily the most underrated film inn th...  \n",
      "4      This is not the typical Mel Brooks film. It wa...  \n",
      "...                                                  ...  \n",
      "49995  I occasionally let my kids watch this garbage ...  \n",
      "49996  When all we have anymore is pretty much realit...  \n",
      "49997  The basic genre is a thriller intercut with an...  \n",
      "49998  Four things intrigued me as to this film - fir...  \n",
      "49999  David Bryce's comments nearby are exceptionall...  \n",
      "\n",
      "[50000 rows x 5 columns]\n",
      "\n",
      "Total rows 50000\n",
      "\n"
     ]
    }
   ],
   "source": [
    "print(\"Dataframe structure:\")\n",
    "print(df)\n",
    "print()\n",
    "\n",
    "print(\"Total rows %d\" % (len(df)))\n",
    "print()"
   ]
  },
  {
   "cell_type": "code",
   "execution_count": 43,
   "metadata": {
    "colab": {
     "base_uri": "https://localhost:8080/"
    },
    "id": "dEgevug_MxjR",
    "outputId": "16cbde26-7758-4347-f073-89a84ab505ac",
    "scrolled": false,
    "slideshow": {
     "slide_type": "subslide"
    }
   },
   "outputs": [
    {
     "name": "stdout",
     "output_type": "stream",
     "text": [
      "Distribution of scores: \n",
      "score\n",
      "1     10122\n",
      "10     9731\n",
      "8      5859\n",
      "4      5331\n",
      "3      4961\n",
      "7      4803\n",
      "9      4607\n",
      "2      4586\n",
      "Name: count, dtype: int64\n",
      "\n",
      "Distribution of sentiment: \n",
      "sentiment\n",
      "1    25000\n",
      "0    25000\n",
      "Name: count, dtype: int64\n",
      "\n",
      "Distribution of splits: \n",
      "split\n",
      "train    25000\n",
      "test     25000\n",
      "Name: count, dtype: int64\n",
      "\n"
     ]
    }
   ],
   "source": [
    "print(\"Distribution of scores: \")\n",
    "print(df['score'].value_counts())\n",
    "print()\n",
    "\n",
    "print(\"Distribution of sentiment: \")\n",
    "print(df['sentiment'].value_counts())\n",
    "print()\n",
    "\n",
    "print(\"Distribution of splits: \")\n",
    "print(df['split'].value_counts())\n",
    "print()"
   ]
  },
  {
   "cell_type": "code",
   "execution_count": 44,
   "metadata": {
    "colab": {
     "base_uri": "https://localhost:8080/"
    },
    "id": "dZQddWKfMzBr",
    "outputId": "884e5520-382b-4277-dcd8-a5c459678966",
    "scrolled": true,
    "slideshow": {
     "slide_type": "subslide"
    }
   },
   "outputs": [
    {
     "name": "stdout",
     "output_type": "stream",
     "text": [
      "Distribution of sentiments in split: \n",
      "split  sentiment\n",
      "test   0            12500\n",
      "       1            12500\n",
      "train  0            12500\n",
      "       1            12500\n",
      "dtype: int64\n",
      "\n",
      "Distribution of scores in split: \n",
      "split  score\n",
      "test   1        5022\n",
      "       2        2302\n",
      "       3        2541\n",
      "       4        2635\n",
      "       7        2307\n",
      "       8        2850\n",
      "       9        2344\n",
      "       10       4999\n",
      "train  1        5100\n",
      "       2        2284\n",
      "       3        2420\n",
      "       4        2696\n",
      "       7        2496\n",
      "       8        3009\n",
      "       9        2263\n",
      "       10       4732\n",
      "dtype: int64\n",
      "\n",
      "Differences in score distribution in split: \n",
      "score  split\n",
      "1      test     5022\n",
      "       train    5100\n",
      "2      test     2302\n",
      "       train    2284\n",
      "3      test     2541\n",
      "       train    2420\n",
      "4      test     2635\n",
      "       train    2696\n",
      "7      test     2307\n",
      "       train    2496\n",
      "8      test     2850\n",
      "       train    3009\n",
      "9      test     2344\n",
      "       train    2263\n",
      "10     test     4999\n",
      "       train    4732\n",
      "dtype: int64\n",
      "\n"
     ]
    }
   ],
   "source": [
    "print(\"Distribution of sentiments in split: \")\n",
    "print(df.groupby(['split','sentiment']).size())\n",
    "print()\n",
    "\n",
    "print(\"Distribution of scores in split: \")\n",
    "print(df.groupby(['split','score']).size())\n",
    "print()\n",
    "\n",
    "print(\"Differences in score distribution in split: \")\n",
    "print(df.groupby(['score','split',]).size())\n",
    "print()"
   ]
  },
  {
   "cell_type": "code",
   "execution_count": 45,
   "metadata": {
    "colab": {
     "base_uri": "https://localhost:8080/"
    },
    "id": "Peg97aWQM0EC",
    "outputId": "98b5bb2d-cd93-45a5-9f0b-afbfcc3a5d06",
    "scrolled": false,
    "slideshow": {
     "slide_type": "subslide"
    }
   },
   "outputs": [
    {
     "name": "stdout",
     "output_type": "stream",
     "text": [
      "Differences among score classes in the splits: \n",
      "sentiment  score  split\n",
      "0          1      test     5022\n",
      "                  train    5100\n",
      "           2      test     2302\n",
      "                  train    2284\n",
      "           3      test     2541\n",
      "                  train    2420\n",
      "           4      test     2635\n",
      "                  train    2696\n",
      "1          7      test     2307\n",
      "                  train    2496\n",
      "           8      test     2850\n",
      "                  train    3009\n",
      "           9      test     2344\n",
      "                  train    2263\n",
      "           10     test     4999\n",
      "                  train    4732\n",
      "dtype: int64\n",
      "\n"
     ]
    }
   ],
   "source": [
    "print(\"Differences among score classes in the splits: \")\n",
    "print(df.groupby(['sentiment','score','split']).size())\n",
    "print()"
   ]
  },
  {
   "cell_type": "markdown",
   "metadata": {
    "id": "XBglaYxGN9oz",
    "slideshow": {
     "slide_type": "slide"
    }
   },
   "source": [
    "### 1.2.1 Visualization"
   ]
  },
  {
   "cell_type": "code",
   "execution_count": 46,
   "metadata": {
    "scrolled": false,
    "slideshow": {
     "slide_type": "fragment"
    }
   },
   "outputs": [],
   "source": [
    "# Preliminaries\n",
    "import matplotlib.pyplot as plt"
   ]
  },
  {
   "cell_type": "markdown",
   "metadata": {
    "slideshow": {
     "slide_type": "subslide"
    }
   },
   "source": [
    "We first visualize sentiment class distribution."
   ]
  },
  {
   "cell_type": "code",
   "execution_count": 47,
   "metadata": {
    "scrolled": false,
    "slideshow": {
     "slide_type": "subslide"
    }
   },
   "outputs": [
    {
     "data": {
      "image/png": "[encoded data removed]",
      "text/plain": [
       "<Figure size 640x480 with 1 Axes>"
      ]
     },
     "metadata": {},
     "output_type": "display_data"
    }
   ],
   "source": [
    "train_labels = df[df.split == 'train'].sentiment.values\n",
    "test_labels = df[df.split == 'test'].sentiment.values\n",
    "\n",
    "plt.hist([train_labels,test_labels], bins=2, label=['train','test'], color=[\"red\", \"blue\"], align=\"mid\")\n",
    "plt.legend(loc='upper center')\n",
    "plt.title('Class distribution')\n",
    "plt.xlabel('Sentiment')\n",
    "plt.ylabel('# Samples')\n",
    "plt.show()"
   ]
  },
  {
   "cell_type": "markdown",
   "metadata": {
    "slideshow": {
     "slide_type": "subslide"
    }
   },
   "source": [
    "Then we visualize sentiment scores."
   ]
  },
  {
   "cell_type": "code",
   "execution_count": 48,
   "metadata": {
    "colab": {
     "base_uri": "https://localhost:8080/",
     "height": 265
    },
    "id": "UMy0YgDBN8rl",
    "outputId": "713b68d0-2387-4423-bb5f-98a645b82eee",
    "scrolled": false,
    "slideshow": {
     "slide_type": "subslide"
    }
   },
   "outputs": [
    {
     "data": {
      "image/png": "[encoded data removed]",
      "text/plain": [
       "<Figure size 640x480 with 1 Axes>"
      ]
     },
     "metadata": {},
     "output_type": "display_data"
    }
   ],
   "source": [
    "train_scores = df[df.split == 'train'].score.values\n",
    "test_scores = df[df.split == 'test'].score.values\n",
    "\n",
    "plt.xticks(range(1,11))\n",
    "plt.hist([train_scores,test_scores], bins=10, label=['train','test'], color=[\"red\", \"blue\"], align=\"mid\")\n",
    "plt.legend(loc='upper center')\n",
    "plt.title('Score distribution')\n",
    "plt.xlabel('Score')\n",
    "plt.ylabel('# Samples')\n",
    "\n",
    "plt.show()"
   ]
  },
  {
   "cell_type": "code",
   "execution_count": 49,
   "metadata": {
    "colab": {
     "base_uri": "https://localhost:8080/",
     "height": 545
    },
    "id": "gsniJ_VdV-A-",
    "outputId": "32e3116e-37df-40bd-c67e-03202233c3c4",
    "scrolled": false,
    "slideshow": {
     "slide_type": "subslide"
    }
   },
   "outputs": [
    {
     "data": {
      "image/png": "[encoded data removed]",
      "text/plain": [
       "<Figure size 640x480 with 1 Axes>"
      ]
     },
     "metadata": {},
     "output_type": "display_data"
    },
    {
     "data": {
      "image/png": "[encoded data removed]",
      "text/plain": [
       "<Figure size 640x480 with 1 Axes>"
      ]
     },
     "metadata": {},
     "output_type": "display_data"
    }
   ],
   "source": [
    "plot1 = plt.figure(1)\n",
    "plt.hist(train_scores, 10, color=\"red\")\n",
    "plt.xlabel('Score')\n",
    "plt.ylabel('# Samples')\n",
    "plt.title(\"Train\")\n",
    "\n",
    "plot2 = plt.figure(2)\n",
    "plt.hist(test_scores, 10, color=\"blue\")\n",
    "plt.xlabel('Score')\n",
    "plt.ylabel('# Samples')\n",
    "plt.title(\"Test\")\n",
    "\n",
    "plt.show()"
   ]
  },
  {
   "cell_type": "markdown",
   "metadata": {
    "slideshow": {
     "slide_type": "subslide"
    }
   },
   "source": [
    "Lastly, we check text length distribution."
   ]
  },
  {
   "cell_type": "code",
   "execution_count": 50,
   "metadata": {
    "scrolled": false,
    "slideshow": {
     "slide_type": "fragment"
    }
   },
   "outputs": [
    {
     "name": "stderr",
     "output_type": "stream",
     "text": [
      "[nltk_data] Downloading package punkt to\n",
      "[nltk_data]     C:\\Users\\ardiz\\AppData\\Roaming\\nltk_data...\n",
      "[nltk_data]   Package punkt is already up-to-date!\n"
     ]
    },
    {
     "name": "stderr",
     "output_type": "stream",
     "text": [
      "100%|██████████| 25000/25000 [00:36<00:00, 690.51it/s]\n",
      "100%|██████████| 25000/25000 [00:38<00:00, 649.60it/s]\n"
     ]
    }
   ],
   "source": [
    "import nltk\n",
    "from nltk.tokenize import word_tokenize\n",
    "\n",
    "# necessary for being able to tokenize\n",
    "nltk.download('punkt')\n",
    "\n",
    "train_texts = df[df.split == 'train'].text.values\n",
    "test_texts = df[df.split == 'test'].text.values\n",
    "\n",
    "train_lengths = [len(word_tokenize(text)) for text in tqdm(train_texts)]\n",
    "test_lengths = [len(word_tokenize(text)) for text in tqdm(test_texts)]"
   ]
  },
  {
   "cell_type": "code",
   "execution_count": 51,
   "metadata": {
    "scrolled": false,
    "slideshow": {
     "slide_type": "subslide"
    }
   },
   "outputs": [
    {
     "data": {
      "image/png": "[encoded data removed]",
      "text/plain": [
       "<Figure size 640x480 with 1 Axes>"
      ]
     },
     "metadata": {},
     "output_type": "display_data"
    },
    {
     "data": {
      "image/png": "[encoded data removed]",
      "text/plain": [
       "<Figure size 640x480 with 1 Axes>"
      ]
     },
     "metadata": {},
     "output_type": "display_data"
    }
   ],
   "source": [
    "plot1 = plt.figure(1)\n",
    "plt.hist(train_lengths, color=\"red\")\n",
    "plt.xlabel('Word count')\n",
    "plt.ylabel('# Samples')\n",
    "plt.title(\"Train\")\n",
    "\n",
    "plot2 = plt.figure(2)\n",
    "plt.hist(test_lengths, 10, color=\"blue\")\n",
    "plt.xlabel('Word count')\n",
    "plt.ylabel('# Samples')\n",
    "plt.title(\"Test\")\n",
    "\n",
    "plt.show()"
   ]
  },
  {
   "cell_type": "markdown",
   "metadata": {
    "id": "-sMYZFEwLHBu",
    "slideshow": {
     "slide_type": "slide"
    }
   },
   "source": [
    "## 2. Feature Extraction\n",
    "\n",
    "We are now ready to address the sentiment analysis task.\n",
    "\n",
    "We consider the sentiment classification task for description purposes."
   ]
  },
  {
   "cell_type": "markdown",
   "metadata": {
    "slideshow": {
     "slide_type": "fragment"
    }
   },
   "source": [
    "We first **determine** the inputs and outputs of our classifier.\n",
    "\n",
    "Then, we define **how to encode** the inputs and outputs for the classifier."
   ]
  },
  {
   "cell_type": "markdown",
   "metadata": {
    "slideshow": {
     "slide_type": "subslide"
    }
   },
   "source": [
    "### Inputs and Outputs\n",
    "\n",
    "<center>\n",
    "    <img src=\"images/inputs_outputs.png\" alt=\"inputs and outputs\" />\n",
    "</center>"
   ]
  },
  {
   "cell_type": "markdown",
   "metadata": {
    "slideshow": {
     "slide_type": "subslide"
    }
   },
   "source": [
    "### Input features and Outputs\n",
    "\n",
    "We will encode input text into a numerical format: **bag-of-words**.\n",
    "\n",
    "<center>\n",
    "    <img src=\"images/inputs_outputs_features.png\" alt=\"features and outputs\" />\n",
    "</center>"
   ]
  },
  {
   "cell_type": "markdown",
   "metadata": {
    "slideshow": {
     "slide_type": "subslide"
    }
   },
   "source": [
    "Sentiment score prediction has the same schema where the *output label* is replaced by the sentiment score."
   ]
  },
  {
   "cell_type": "markdown",
   "metadata": {
    "id": "APy7Yb83H5Is",
    "slideshow": {
     "slide_type": "slide"
    }
   },
   "source": [
    "### 2.1 Bag-of-Words Encoding\n",
    "\n",
    "The [scikit-learn](https://scikit-learn.org/stable/) library offers *TfidfVectorizer*, a class that performs both tokenization and the creation of the Bag-of-Words (BoW) representation of a corpus.\n",
    "\n",
    "In particular, it computes tf-idf representation for each word token."
   ]
  },
  {
   "cell_type": "markdown",
   "metadata": {
    "slideshow": {
     "slide_type": "fragment"
    }
   },
   "source": [
    "The class has plenty of options: it can be used also to count n-grams, excluding stop-words, and cutting off most and/or less frequent terms."
   ]
  },
  {
   "cell_type": "code",
   "execution_count": 52,
   "metadata": {
    "colab": {
     "base_uri": "https://localhost:8080/"
    },
    "id": "ZsuUwTjqH72Q",
    "outputId": "95233a15-6daa-4f64-b0bd-9958861efad1",
    "scrolled": false,
    "slideshow": {
     "slide_type": "subslide"
    }
   },
   "outputs": [
    {
     "name": "stdout",
     "output_type": "stream",
     "text": [
      "Processing corpus\n",
      "\n",
      "Shape of the matrix: (data points, features)\n",
      "(25000, 74849)\n",
      "\n"
     ]
    }
   ],
   "source": [
    "from sklearn.feature_extraction.text import  TfidfVectorizer\n",
    "\n",
    "# select only the training sentences\n",
    "df_train = df.loc[df['split'] == \"train\"]\n",
    "\n",
    "train_texts = df_train.text.values\n",
    "\n",
    "print(\"Processing corpus\\n\")\n",
    "vectorizer =  TfidfVectorizer()\n",
    "\n",
    "# tokenization and creation of Bag of Words representation\n",
    "X_train = vectorizer.fit_transform(train_texts)\n",
    "\n",
    "print(\"Shape of the matrix: (data points, features)\")\n",
    "print(X_train.shape)\n",
    "print()\n",
    "\n",
    "# targets for the training set\n",
    "Y_train = df_train.sentiment.values "
   ]
  },
  {
   "cell_type": "markdown",
   "metadata": {
    "id": "PajnwZslUg-p",
    "slideshow": {
     "slide_type": "subslide"
    }
   },
   "source": [
    "The vectorizer **fits** on the provided texts to create an internal vocabulary.\n",
    "\n",
    "The vocabulary is used to create the BoW representation.\n",
    "\n",
    "The vocabulary is a dictionary that associates to each word a corresponding column in the feature matrix."
   ]
  },
  {
   "cell_type": "markdown",
   "metadata": {
    "slideshow": {
     "slide_type": "fragment"
    }
   },
   "source": [
    "#### Check Vocabulary\n",
    "\n",
    "Do not try to print the whole vocabulary: it is quite large ;)\n",
    "\n",
    "Still, **it is very important** to have a look at detected tokens!"
   ]
  },
  {
   "cell_type": "markdown",
   "metadata": {
    "slideshow": {
     "slide_type": "subslide"
    }
   },
   "source": [
    "Let's check the size of the built vocabulary."
   ]
  },
  {
   "cell_type": "code",
   "execution_count": 53,
   "metadata": {
    "colab": {
     "base_uri": "https://localhost:8080/"
    },
    "id": "7fMTG5wqUfhL",
    "outputId": "c36d0a93-efe7-4aa4-f912-7a8dc96be7ee",
    "scrolled": false,
    "slideshow": {
     "slide_type": "fragment"
    }
   },
   "outputs": [
    {
     "name": "stdout",
     "output_type": "stream",
     "text": [
      "Size of vocabulary:\n",
      "74849\n",
      "<class 'dict'>\n"
     ]
    }
   ],
   "source": [
    "print(\"Size of vocabulary:\")\n",
    "print(len(vectorizer.vocabulary_))\n",
    "print(type(vectorizer.vocabulary_))"
   ]
  },
  {
   "cell_type": "markdown",
   "metadata": {
    "id": "g2KIWtBzMYef",
    "slideshow": {
     "slide_type": "subslide"
    }
   },
   "source": [
    "Since the vocabulary is quite big, the BoW representation of input texts is a *sparse* matrix (see [scipy.sparse](https://docs.scipy.org/doc/scipy/reference/sparse.html) for more info).\n",
    "\n",
    "Simply put, a sparse matrix is represented as a dictionary of non-zero entries, where the keys are the matrix coordinates."
   ]
  },
  {
   "cell_type": "code",
   "execution_count": 54,
   "metadata": {
    "colab": {
     "base_uri": "https://localhost:8080/"
    },
    "id": "CfcEWJaeNLWc",
    "outputId": "9120b13a-fb4a-44f6-dfae-ece03eab0d0a",
    "scrolled": true,
    "slideshow": {
     "slide_type": "fragment"
    }
   },
   "outputs": [
    {
     "name": "stdout",
     "output_type": "stream",
     "text": [
      "  (0, 34644)\t0.047394461266444525\n",
      "  (0, 50155)\t0.08287028364871561\n",
      "  (0, 72703)\t0.027918294921852303\n",
      "  (0, 24328)\t0.09485779784272477\n",
      "  (0, 23785)\t0.04764802174958937\n",
      "  (0, 66526)\t0.03666458494606156\n",
      "  (0, 2155)\t0.06166887776124007\n",
      "  (0, 1919)\t0.07732854366244009\n",
      "  (0, 40829)\t0.03770129734051713\n",
      "  (0, 23124)\t0.0603023374239695\n",
      "  (0, 72544)\t0.08414563947065769\n",
      "  (0, 74349)\t0.040182759614367104\n",
      "  (0, 46932)\t0.02277311550313214\n",
      "  (0, 57021)\t0.10696882423195393\n",
      "  (0, 30670)\t0.03986001273006236\n",
      "  (0, 33861)\t0.09306596282618841\n",
      "  (0, 38871)\t0.0542382151436312\n",
      "  (0, 12676)\t0.05485981085044486\n",
      "  (0, 53963)\t0.11883065609615275\n",
      "  (0, 32729)\t0.0733604551139556\n",
      "  (0, 19854)\t0.044811917101658036\n",
      "  (0, 9765)\t0.09135539837480973\n",
      "  (0, 68145)\t0.06634799299330539\n",
      "  (0, 54950)\t0.09230806850172538\n",
      "  (0, 63767)\t0.15413528842651872\n",
      "  :\t:\n",
      "  (24999, 32517)\t0.08554199856842014\n",
      "  (24999, 49147)\t0.05530496122707191\n",
      "  (24999, 3167)\t0.03971086119358096\n",
      "  (24999, 29999)\t0.0441796905553389\n",
      "  (24999, 47142)\t0.08710785271064471\n",
      "  (24999, 23785)\t0.07589860205324366\n",
      "  (24999, 66526)\t0.05840306984607303\n",
      "  (24999, 74349)\t0.12801435062299446\n",
      "  (24999, 46932)\t0.03627532828473988\n",
      "  (24999, 38871)\t0.08639613054449959\n",
      "  (24999, 3258)\t0.09568206721329459\n",
      "  (24999, 2662)\t0.03811164167374234\n",
      "  (24999, 72911)\t0.07512399275269524\n",
      "  (24999, 46680)\t0.12171348105069536\n",
      "  (24999, 66322)\t0.02792275449052043\n",
      "  (24999, 67125)\t0.04917939754910111\n",
      "  (24999, 33004)\t0.02604989124245051\n",
      "  (24999, 44639)\t0.04914958435549718\n",
      "  (24999, 61617)\t0.04516325384833295\n",
      "  (24999, 4465)\t0.06657503112414465\n",
      "  (24999, 66925)\t0.09492128420844781\n",
      "  (24999, 66339)\t0.06997819109295658\n",
      "  (24999, 4753)\t0.07672812763695568\n",
      "  (24999, 34683)\t0.10317660803336665\n",
      "  (24999, 34585)\t0.07694163473628493\n"
     ]
    }
   ],
   "source": [
    "print(X_train)"
   ]
  },
  {
   "cell_type": "markdown",
   "metadata": {
    "id": "kr38ssKTNMeQ",
    "slideshow": {
     "slide_type": "subslide"
    }
   },
   "source": [
    "It is possible to get the dense representation of a feature matrix.\n",
    "\n",
    "**Keep in mind** that the matrix will occupy a lot of memory."
   ]
  },
  {
   "cell_type": "code",
   "execution_count": 55,
   "metadata": {
    "scrolled": false,
    "slideshow": {
     "slide_type": "fragment"
    }
   },
   "outputs": [
    {
     "name": "stdout",
     "output_type": "stream",
     "text": [
      "[[0.         0.         0.         ... 0.         0.         0.        ]\n",
      " [0.         0.         0.         ... 0.         0.         0.        ]\n",
      " [0.         0.         0.         ... 0.         0.         0.        ]\n",
      " ...\n",
      " [0.         0.         0.         ... 0.         0.         0.        ]\n",
      " [0.         0.08332142 0.         ... 0.         0.         0.        ]\n",
      " [0.         0.         0.         ... 0.         0.         0.        ]]\n"
     ]
    }
   ],
   "source": [
    "print(X_train.toarray())"
   ]
  },
  {
   "cell_type": "markdown",
   "metadata": {
    "slideshow": {
     "slide_type": "subslide"
    }
   },
   "source": [
    "Try taking a subset of the matrix and inspect its dense representation."
   ]
  },
  {
   "cell_type": "markdown",
   "metadata": {
    "id": "evLd40iCWZ8q",
    "slideshow": {
     "slide_type": "subslide"
    }
   },
   "source": [
    "We use our fitted Vectorizer to transform test texts as well.\n",
    "\n",
    "**Make sure** you invoke ``vectorizer.transform()`` and **not** ``vectorizer.fit_transform()``."
   ]
  },
  {
   "cell_type": "code",
   "execution_count": 56,
   "metadata": {
    "id": "jNz23Ep2Y3iB",
    "scrolled": false,
    "slideshow": {
     "slide_type": "fragment"
    }
   },
   "outputs": [],
   "source": [
    "# Select only the rows in the DataFrame where the 'split' column is equal to \"test\"\n",
    "df_test = df.loc[df['split'] == \"test\"]\n",
    "\n",
    "# Extract the 'text' values from the 'test' subset and store them in the variable test_texts\n",
    "test_texts = df_test.text.values\n",
    "\n",
    "# Use a vectorizer to transform the 'test_texts' into a format suitable for machine learning models\n",
    "X_test = vectorizer.transform(test_texts)\n",
    "\n",
    "# Extract the 'sentiment' values corresponding to the test set and store them in the variable Y_test\n",
    "Y_test = df_test.sentiment.values\n",
    "\n",
    "# Explanation:\n",
    "# df_test contains only the rows with 'split' equal to \"test\"\n",
    "# test_texts holds the 'text' values from the 'test' subset\n",
    "# X_test is the transformed feature matrix suitable for machine learning models\n",
    "# Y_test is the corresponding array of sentiment labels for the test set"
   ]
  },
  {
   "cell_type": "markdown",
   "metadata": {
    "id": "nkhGO5UhgiRF",
    "slideshow": {
     "slide_type": "slide"
    }
   },
   "source": [
    "**GOLDEN RULE: DO NOT EVER EVER EVER EVER MESS WITH THE TEST SET!!!!**"
   ]
  },
  {
   "cell_type": "markdown",
   "metadata": {
    "slideshow": {
     "slide_type": "fragment"
    }
   },
   "source": [
    "You **should never** add or remove rows/instances/data points from the test set.\n",
    "\n",
    "You **should never** alter the ground-truth labels."
   ]
  },
  {
   "cell_type": "markdown",
   "metadata": {
    "slideshow": {
     "slide_type": "fragment"
    }
   },
   "source": [
    "You **can** process it to transform, add, or remove columns/features.\n",
    "\n",
    "You **can** modify the train set more freely."
   ]
  },
  {
   "cell_type": "markdown",
   "metadata": {
    "slideshow": {
     "slide_type": "slide"
    }
   },
   "source": [
    "So far, we have encoded the text as it is.\n",
    "\n",
    "We can perform additional pre-processing to 'normalize' the provided text."
   ]
  },
  {
   "cell_type": "markdown",
   "metadata": {
    "id": "EQeTE9r8H2Ok",
    "slideshow": {
     "slide_type": "slide"
    }
   },
   "source": [
    "### 2.2 Stemming\n",
    "\n",
    "*''Stemming usually refers to a crude heuristic process that **chops off** the ends of words to reduce words to a common form.''* \n",
    "\n",
    "<div align='right'>\n",
    "(Introduction to Information Retrieval ~ C. D. Manning)\n",
    "</div>"
   ]
  },
  {
   "cell_type": "markdown",
   "metadata": {
    "slideshow": {
     "slide_type": "fragment"
    }
   },
   "source": [
    "**Example**\n",
    "\n",
    "*programmer*, *programs*, *programming* $\\rightarrow$ *program*"
   ]
  },
  {
   "cell_type": "code",
   "execution_count": 57,
   "metadata": {
    "colab": {
     "base_uri": "https://localhost:8080/"
    },
    "id": "BTikcP7e2Pby",
    "outputId": "6481f0cf-df2a-4274-95e5-37c503e19ae8",
    "scrolled": false,
    "slideshow": {
     "slide_type": "subslide"
    }
   },
   "outputs": [],
   "source": [
    "from nltk.stem import SnowballStemmer\n",
    "from nltk.tokenize import word_tokenize, sent_tokenize, WhitespaceTokenizer\n",
    "\n",
    "# Create a SnowballStemmer for English\n",
    "stemmer = SnowballStemmer(\"english\")\n",
    "\n",
    "# Create a WhitespaceTokenizer\n",
    "tokenizer = WhitespaceTokenizer()\n",
    "\n",
    "# Explanation:\n",
    "# SnowballStemmer is used for stemming, which is the process of reducing words to their base or root form.\n",
    "# It helps in reducing variations of words to a common base form.\n",
    "# Here, it's specifically configured for the English language.\n",
    "\n",
    "# WhitespaceTokenizer is a simple tokenizer that splits text into tokens based on whitespace.\n",
    "# It's often used as a basic tokenizer for simple tasks.\n",
    "# Tokens are individual units of text, such as words or punctuation marks."
   ]
  },
  {
   "cell_type": "code",
   "execution_count": 58,
   "metadata": {
    "colab": {
     "base_uri": "https://localhost:8080/"
    },
    "id": "i74KsprrFwPN",
    "outputId": "ca0c21f4-a268-4d4a-dcff-dafae16a2401",
    "scrolled": false,
    "slideshow": {
     "slide_type": "subslide"
    }
   },
   "outputs": [
    {
     "name": "stderr",
     "output_type": "stream",
     "text": [
      "100%|██████████| 25000/25000 [01:39<00:00, 251.15it/s]\n",
      "100%|██████████| 25000/25000 [01:08<00:00, 366.41it/s]\n"
     ]
    }
   ],
   "source": [
    "# Define a function 'stem_text' that takes a string 'text' as input\n",
    "def stem_text(text: str):\n",
    "    # Tokenize the input text using the WhitespaceTokenizer\n",
    "    tokens = tokenizer.tokenize(text)\n",
    "    \n",
    "    # Apply stemming to each token using the SnowballStemmer\n",
    "    stemmed_words = [stemmer.stem(word) for word in tokens]\n",
    "    \n",
    "    # Join the stemmed words back into a single string\n",
    "    return \" \".join(stemmed_words)\n",
    "\n",
    "# Apply the 'stem_text' function to each text in the 'train_texts' list\n",
    "# tqdm is used to display a progress bar for the iteration\n",
    "st_train_texts = [stem_text(text) for text in tqdm(train_texts)]\n",
    "\n",
    "# Apply the 'stem_text' function to each text in the 'test_texts' list\n",
    "# tqdm is used to display a progress bar for the iteration\n",
    "st_test_texts = [stem_text(text) for text in tqdm(test_texts)]\n",
    "\n",
    "# Explanation:\n",
    "# The 'stem_text' function tokenizes the input text using the WhitespaceTokenizer,\n",
    "# then applies stemming to each token using the SnowballStemmer, and finally joins\n",
    "# the stemmed words back into a single string.\n",
    "\n",
    "# The resulting 'st_train_texts' and 'st_test_texts' lists contain the stemmed versions\n",
    "# of the 'train_texts' and 'test_texts', respectively, after applying the 'stem_text' function."
   ]
  },
  {
   "cell_type": "code",
   "execution_count": 59,
   "metadata": {
    "scrolled": false,
    "slideshow": {
     "slide_type": "fragment"
    }
   },
   "outputs": [
    {
     "name": "stdout",
     "output_type": "stream",
     "text": [
      "INITIAL\n",
      "Bromwell High is a cartoon comedy. It ran at the same time as some other programs about school life,\n",
      "\n",
      "STEMMED\n",
      "bromwel high is a cartoon comedy. it ran at the same time as some other program about school life, s\n"
     ]
    }
   ],
   "source": [
    "print(\"INITIAL\")\n",
    "print(train_texts[0][:100])\n",
    "print()\n",
    "print(\"STEMMED\")\n",
    "print(st_train_texts[0][:100])"
   ]
  },
  {
   "cell_type": "markdown",
   "metadata": {
    "slideshow": {
     "slide_type": "subslide"
    }
   },
   "source": [
    "We encoded the pre-processed texts as before via the ``TfidfVectorizer``."
   ]
  },
  {
   "cell_type": "code",
   "execution_count": 60,
   "metadata": {
    "colab": {
     "base_uri": "https://localhost:8080/"
    },
    "id": "FPZNMU_5HwIt",
    "outputId": "e104eee9-276c-43a9-b503-21654df38d23",
    "scrolled": false,
    "slideshow": {
     "slide_type": "fragment"
    }
   },
   "outputs": [
    {
     "name": "stdout",
     "output_type": "stream",
     "text": [
      "Processing corpus\n",
      "\n",
      "Shape of the matrix: (data points, features)\n",
      "(25000, 70363)\n",
      "\n"
     ]
    }
   ],
   "source": [
    "# Print a message indicating that the corpus is being processed\n",
    "print(\"Processing corpus\\n\")\n",
    "\n",
    "# Create a new TfidfVectorizer for the stemmed texts\n",
    "st_vectorizer = TfidfVectorizer()\n",
    "\n",
    "# Transform the stemmed training texts into a feature matrix\n",
    "st_X_train = st_vectorizer.fit_transform(st_train_texts)\n",
    "\n",
    "# Transform the stemmed test texts using the same vectorizer\n",
    "st_X_test = st_vectorizer.transform(st_test_texts)\n",
    "\n",
    "# Print information about the shape of the feature matrices\n",
    "print(\"Shape of the matrix: (data points, features)\")\n",
    "print(st_X_train.shape)\n",
    "print()\n",
    "\n",
    "# Explanation:\n",
    "# TfidfVectorizer is a feature extraction method that transforms a collection of raw documents\n",
    "# into a matrix of TF-IDF features. It converts a collection of text documents to a matrix\n",
    "# of token counts (or term frequency) and then applies term frequency-inverse document frequency\n",
    "# (TF-IDF) normalization.\n",
    "\n",
    "# st_vectorizer is an instance of TfidfVectorizer, and it is fitted on the stemmed training texts\n",
    "# (st_train_texts) using fit_transform to both fit the model and transform the training data.\n",
    "\n",
    "# The same vectorizer is then used to transform the stemmed test texts (st_test_texts) into a\n",
    "# feature matrix without re-fitting it. This ensures consistent transformation between training\n",
    "# and test sets.\n",
    "\n",
    "# Finally, the shape of the resulting feature matrices (st_X_train and st_X_test) is printed.\n",
    "# The shape indicates the number of data points (documents) and the number of features (unique terms)."
   ]
  },
  {
   "cell_type": "markdown",
   "metadata": {
    "id": "IHIRP1NcHxkG",
    "slideshow": {
     "slide_type": "slide"
    }
   },
   "source": [
    "### 2.3 Lemmatization\n",
    "\n",
    "*''Lemmatization usually refers to use a vocabulary and morphological analysis of words to return the base or dictionary form of a word, known as **lemma**''*\n",
    "\n",
    "<div align='right'>\n",
    "(Introduction to Information Retrieval ~ C. D. Manning)\n",
    "</div>"
   ]
  },
  {
   "cell_type": "markdown",
   "metadata": {
    "slideshow": {
     "slide_type": "fragment"
    }
   },
   "source": [
    "**Example**\n",
    "\n",
    "*saw*, *seen*, *sees* $\\rightarrow$ *see*"
   ]
  },
  {
   "cell_type": "code",
   "execution_count": 61,
   "metadata": {
    "colab": {
     "base_uri": "https://localhost:8080/"
    },
    "id": "50o_-46D51Bc",
    "outputId": "b7fdb7f7-1c67-44a9-c8b6-aa551fedf9a8",
    "scrolled": false,
    "slideshow": {
     "slide_type": "subslide"
    }
   },
   "outputs": [
    {
     "name": "stderr",
     "output_type": "stream",
     "text": [
      "[nltk_data] Downloading package omw-1.4 to\n",
      "[nltk_data]     C:\\Users\\ardiz\\AppData\\Roaming\\nltk_data...\n",
      "[nltk_data]   Package omw-1.4 is already up-to-date!\n",
      "[nltk_data] Downloading package wordnet to\n",
      "[nltk_data]     C:\\Users\\ardiz\\AppData\\Roaming\\nltk_data...\n",
      "[nltk_data]   Package wordnet is already up-to-date!\n",
      "[nltk_data] Downloading package averaged_perceptron_tagger to\n",
      "[nltk_data]     C:\\Users\\ardiz\\AppData\\Roaming\\nltk_data...\n",
      "[nltk_data]   Package averaged_perceptron_tagger is already up-to-\n",
      "[nltk_data]       date!\n"
     ]
    }
   ],
   "source": [
    "# Import necessary modules from NLTK library\n",
    "from nltk.stem import WordNetLemmatizer\n",
    "from nltk import pos_tag\n",
    "from nltk.corpus import wordnet\n",
    "\n",
    "# Download WordNet data needed for lemmatization\n",
    "nltk.download('omw-1.4')\n",
    "nltk.download('wordnet')\n",
    "nltk.download('averaged_perceptron_tagger')\n",
    "\n",
    "# Create an instance of WordNetLemmatizer for lemmatization\n",
    "lemmatizer = WordNetLemmatizer()\n",
    "\n",
    "# Explanation:\n",
    "# The NLTK library is used for natural language processing tasks.\n",
    "# - WordNetLemmatizer: A lemmatizer that reduces words to their base or dictionary form.\n",
    "# - pos_tag: Part-of-speech tagging function used to provide tags (e.g., 'NOUN', 'VERB') to words.\n",
    "# - wordnet: A lexical database for the English language.\n",
    "\n",
    "# Downloading 'omw-1.4', 'wordnet', and 'averaged_perceptron_tagger' data is necessary for\n",
    "# WordNetLemmatizer to work, as it uses the WordNet database for lemmatization.\n",
    "\n",
    "# The lemmatizer variable is created as an instance of WordNetLemmatizer for use in lemmatization tasks."
   ]
  },
  {
   "cell_type": "code",
   "execution_count": 62,
   "metadata": {
    "colab": {
     "base_uri": "https://localhost:8080/"
    },
    "id": "5dQmbDSXLICD",
    "outputId": "f5c712c1-bd73-4638-decc-fae7607a6858",
    "scrolled": false,
    "slideshow": {
     "slide_type": "subslide"
    }
   },
   "outputs": [
    {
     "name": "stderr",
     "output_type": "stream",
     "text": [
      "100%|██████████| 25000/25000 [05:20<00:00, 77.94it/s] \n",
      "100%|██████████| 25000/25000 [04:18<00:00, 96.80it/s] \n"
     ]
    }
   ],
   "source": [
    "# Function to map part-of-speech tags to WordNet POS tags\n",
    "def get_wordnet_key(pos_tag):\n",
    "    if pos_tag.startswith('J'):\n",
    "        return wordnet.ADJ\n",
    "    elif pos_tag.startswith('V'):\n",
    "        return wordnet.VERB\n",
    "    elif pos_tag.startswith('N'):\n",
    "        return wordnet.NOUN\n",
    "    elif pos_tag.startswith('R'):\n",
    "        return wordnet.ADV\n",
    "    else:          \n",
    "        return 'n'\n",
    "\n",
    "# Function to lemmatize a given text\n",
    "def lem_text(text: str):\n",
    "    # Tokenize the text\n",
    "    tokens = tokenizer.tokenize(text)\n",
    "    \n",
    "    # Part-of-speech tagging\n",
    "    tagged = pos_tag(tokens)\n",
    "    \n",
    "    # Lemmatize each word based on its part-of-speech tag\n",
    "    words = [lemmatizer.lemmatize(word, get_wordnet_key(tag)) for word, tag in tagged]\n",
    "    \n",
    "    # Join the lemmatized words into a single string\n",
    "    return \" \".join(words)\n",
    "\n",
    "# Applying lemmatization to the training texts\n",
    "lem_train_texts = [lem_text(text) for text in tqdm(train_texts, leave=True, position=0)]\n",
    "\n",
    "# Applying lemmatization to the test texts\n",
    "lem_test_texts = [lem_text(text) for text in tqdm(test_texts, leave=True, position=0)]"
   ]
  },
  {
   "cell_type": "code",
   "execution_count": 63,
   "metadata": {
    "scrolled": false,
    "slideshow": {
     "slide_type": "subslide"
    }
   },
   "outputs": [
    {
     "name": "stdout",
     "output_type": "stream",
     "text": [
      "INITIAL\n",
      "Titanic is a long but well made tragic adventure love story that takes place during the ill-fated vo\n",
      "\n",
      "LEMMATIZATED\n",
      "Titanic be a long but well make tragic adventure love story that take place during the ill-fated voy\n"
     ]
    }
   ],
   "source": [
    "print(\"INITIAL\")\n",
    "print(train_texts[40][:100])\n",
    "print()\n",
    "print(\"LEMMATIZATED\")\n",
    "print(lem_train_texts[40][:100])"
   ]
  },
  {
   "cell_type": "markdown",
   "metadata": {
    "slideshow": {
     "slide_type": "subslide"
    }
   },
   "source": [
    "We encoded the pre-processed texts as before via the ``TfidfVectorizer``."
   ]
  },
  {
   "cell_type": "code",
   "execution_count": 64,
   "metadata": {
    "colab": {
     "base_uri": "https://localhost:8080/"
    },
    "id": "BLRcJtAyGumx",
    "outputId": "360f4ea9-c782-468f-b746-e61718abac9d",
    "scrolled": false,
    "slideshow": {
     "slide_type": "fragment"
    }
   },
   "outputs": [
    {
     "name": "stdout",
     "output_type": "stream",
     "text": [
      "Processing corpus\n",
      "\n",
      "Shape of the matrix: (data points, features)\n",
      "(25000, 70643)\n",
      "\n"
     ]
    }
   ],
   "source": [
    "print(\"Processing corpus\\n\")\n",
    "lem_vectorizer =  TfidfVectorizer()\n",
    "lem_X_train = lem_vectorizer.fit_transform(lem_train_texts)\n",
    "lem_X_test = lem_vectorizer.transform(lem_test_texts)\n",
    "\n",
    "print(\"Shape of the matrix: (data points, features)\")\n",
    "print(lem_X_train.shape)\n",
    "print()"
   ]
  },
  {
   "cell_type": "markdown",
   "metadata": {
    "id": "Xe5NPH5Gb5FI",
    "slideshow": {
     "slide_type": "slide"
    }
   },
   "source": [
    "## 3. Training and Evaluating a Classifier\n",
    "\n",
    "We are now ready to try out some standard machine learning classifiers."
   ]
  },
  {
   "cell_type": "markdown",
   "metadata": {
    "slideshow": {
     "slide_type": "subslide"
    }
   },
   "source": [
    "**But** first, we introduce some baselines."
   ]
  },
  {
   "cell_type": "markdown",
   "metadata": {
    "slideshow": {
     "slide_type": "fragment"
    }
   },
   "source": [
    "#### The importance of defining good baselines\n",
    "\n",
    "Good baselines are always needed to consistently evaluate employed models.\n",
    "\n",
    "When proposing a novel model, good baselines are recent state-of-the-art models.\n",
    "\n",
    "When proposing a benchmark, good baselines are general-purpose off-the-shelf models."
   ]
  },
  {
   "cell_type": "markdown",
   "metadata": {
    "id": "noDTCzKrLElj",
    "slideshow": {
     "slide_type": "subslide"
    }
   },
   "source": [
    "### 3.1 Baselines\n",
    "\n",
    "The majority baseline always predicts the majority class.\n",
    "\n",
    "The random baseline makes uniform random predictions.\n",
    "\n",
    "Their performances will tell us how much difficult this task is."
   ]
  },
  {
   "cell_type": "code",
   "execution_count": 65,
   "metadata": {
    "id": "7H8brk7OMHbp",
    "scrolled": false,
    "slideshow": {
     "slide_type": "subslide"
    }
   },
   "outputs": [],
   "source": [
    "# Import the DummyClassifier from scikit-learn\n",
    "from sklearn.dummy import DummyClassifier\n",
    "\n",
    "# Create two instances of DummyClassifier with different strategies\n",
    "# - \"prior\" predicts the class that is most frequent in the training data\n",
    "# - \"uniform\" predicts classes uniformly at random\n",
    "majority_classifier = DummyClassifier(strategy=\"prior\")\n",
    "uniform_classifier = DummyClassifier(strategy=\"uniform\")\n",
    "\n",
    "# Fit the classifiers on the training data\n",
    "majority_classifier.fit(X_train, Y_train)\n",
    "uniform_classifier.fit(X_train, Y_train)\n",
    "\n",
    "# Make predictions on both training and test sets using the majority class strategy\n",
    "Y_pred_train_maj = majority_classifier.predict(X_train)\n",
    "Y_pred_test_maj = majority_classifier.predict(X_test)\n",
    "\n",
    "# Make predictions on both training and test sets using the uniform random strategy\n",
    "Y_pred_train_uni = uniform_classifier.predict(X_train)\n",
    "Y_pred_test_uni = uniform_classifier.predict(X_test)\n"
   ]
  },
  {
   "cell_type": "markdown",
   "metadata": {
    "slideshow": {
     "slide_type": "subslide"
    }
   },
   "source": [
    "Try out a random baseline that samples predictions according to label distribution."
   ]
  },
  {
   "cell_type": "markdown",
   "metadata": {
    "slideshow": {
     "slide_type": "subslide"
    }
   },
   "source": [
    "We now evaluate model predictions via some metrics."
   ]
  },
  {
   "cell_type": "code",
   "execution_count": 66,
   "metadata": {
    "colab": {
     "base_uri": "https://localhost:8080/"
    },
    "id": "-uRJSSNzNv6x",
    "outputId": "e505c8bd-6af5-4058-f543-a2f79504482c",
    "scrolled": false,
    "slideshow": {
     "slide_type": "fragment"
    }
   },
   "outputs": [],
   "source": [
    "from sklearn.metrics import classification_report\n",
    "\n",
    "def evaluate_classification(y_true, y_pred):\n",
    "    report = classification_report(y_true, y_pred, target_names=['neg', 'pos'])\n",
    "    print(report)"
   ]
  },
  {
   "cell_type": "code",
   "execution_count": 67,
   "metadata": {
    "scrolled": false,
    "slideshow": {
     "slide_type": "subslide"
    }
   },
   "outputs": [
    {
     "name": "stdout",
     "output_type": "stream",
     "text": [
      "              precision    recall  f1-score   support\n",
      "\n",
      "         neg       0.50      1.00      0.67     12500\n",
      "         pos       0.00      0.00      0.00     12500\n",
      "\n",
      "    accuracy                           0.50     25000\n",
      "   macro avg       0.25      0.50      0.33     25000\n",
      "weighted avg       0.25      0.50      0.33     25000\n",
      "\n",
      "              precision    recall  f1-score   support\n",
      "\n",
      "         neg       0.50      1.00      0.67     12500\n",
      "         pos       0.00      0.00      0.00     12500\n",
      "\n",
      "    accuracy                           0.50     25000\n",
      "   macro avg       0.25      0.50      0.33     25000\n",
      "weighted avg       0.25      0.50      0.33     25000\n",
      "\n"
     ]
    },
    {
     "name": "stderr",
     "output_type": "stream",
     "text": [
      "C:\\Users\\ardiz\\AppData\\Local\\Packages\\PythonSoftwareFoundation.Python.3.11_qbz5n2kfra8p0\\LocalCache\\local-packages\\Python311\\site-packages\\sklearn\\metrics\\_classification.py:1471: UndefinedMetricWarning: Precision and F-score are ill-defined and being set to 0.0 in labels with no predicted samples. Use `zero_division` parameter to control this behavior.\n",
      "  _warn_prf(average, modifier, msg_start, len(result))\n",
      "C:\\Users\\ardiz\\AppData\\Local\\Packages\\PythonSoftwareFoundation.Python.3.11_qbz5n2kfra8p0\\LocalCache\\local-packages\\Python311\\site-packages\\sklearn\\metrics\\_classification.py:1471: UndefinedMetricWarning: Precision and F-score are ill-defined and being set to 0.0 in labels with no predicted samples. Use `zero_division` parameter to control this behavior.\n",
      "  _warn_prf(average, modifier, msg_start, len(result))\n",
      "C:\\Users\\ardiz\\AppData\\Local\\Packages\\PythonSoftwareFoundation.Python.3.11_qbz5n2kfra8p0\\LocalCache\\local-packages\\Python311\\site-packages\\sklearn\\metrics\\_classification.py:1471: UndefinedMetricWarning: Precision and F-score are ill-defined and being set to 0.0 in labels with no predicted samples. Use `zero_division` parameter to control this behavior.\n",
      "  _warn_prf(average, modifier, msg_start, len(result))\n",
      "C:\\Users\\ardiz\\AppData\\Local\\Packages\\PythonSoftwareFoundation.Python.3.11_qbz5n2kfra8p0\\LocalCache\\local-packages\\Python311\\site-packages\\sklearn\\metrics\\_classification.py:1471: UndefinedMetricWarning: Precision and F-score are ill-defined and being set to 0.0 in labels with no predicted samples. Use `zero_division` parameter to control this behavior.\n",
      "  _warn_prf(average, modifier, msg_start, len(result))\n",
      "C:\\Users\\ardiz\\AppData\\Local\\Packages\\PythonSoftwareFoundation.Python.3.11_qbz5n2kfra8p0\\LocalCache\\local-packages\\Python311\\site-packages\\sklearn\\metrics\\_classification.py:1471: UndefinedMetricWarning: Precision and F-score are ill-defined and being set to 0.0 in labels with no predicted samples. Use `zero_division` parameter to control this behavior.\n",
      "  _warn_prf(average, modifier, msg_start, len(result))\n",
      "C:\\Users\\ardiz\\AppData\\Local\\Packages\\PythonSoftwareFoundation.Python.3.11_qbz5n2kfra8p0\\LocalCache\\local-packages\\Python311\\site-packages\\sklearn\\metrics\\_classification.py:1471: UndefinedMetricWarning: Precision and F-score are ill-defined and being set to 0.0 in labels with no predicted samples. Use `zero_division` parameter to control this behavior.\n",
      "  _warn_prf(average, modifier, msg_start, len(result))\n"
     ]
    }
   ],
   "source": [
    "evaluate_classification(y_true=Y_train, y_pred=Y_pred_train_maj)\n",
    "evaluate_classification(y_true=Y_test, y_pred=Y_pred_test_maj)"
   ]
  },
  {
   "cell_type": "code",
   "execution_count": 68,
   "metadata": {
    "scrolled": false,
    "slideshow": {
     "slide_type": "subslide"
    }
   },
   "outputs": [
    {
     "name": "stdout",
     "output_type": "stream",
     "text": [
      "              precision    recall  f1-score   support\n",
      "\n",
      "         neg       0.50      0.50      0.50     12500\n",
      "         pos       0.50      0.50      0.50     12500\n",
      "\n",
      "    accuracy                           0.50     25000\n",
      "   macro avg       0.50      0.50      0.50     25000\n",
      "weighted avg       0.50      0.50      0.50     25000\n",
      "\n",
      "              precision    recall  f1-score   support\n",
      "\n",
      "         neg       0.51      0.51      0.51     12500\n",
      "         pos       0.51      0.51      0.51     12500\n",
      "\n",
      "    accuracy                           0.51     25000\n",
      "   macro avg       0.51      0.51      0.51     25000\n",
      "weighted avg       0.51      0.51      0.51     25000\n",
      "\n"
     ]
    }
   ],
   "source": [
    "evaluate_classification(y_true=Y_train, y_pred=Y_pred_train_uni)\n",
    "evaluate_classification(y_true=Y_test, y_pred=Y_pred_test_uni) "
   ]
  },
  {
   "cell_type": "markdown",
   "metadata": {
    "id": "022pneV8hOnd",
    "slideshow": {
     "slide_type": "subslide"
    }
   },
   "source": [
    "#### 3.1.1 The importance of model evaluation\n",
    "\n",
    "In most cases, accuracy is **not a very informative metric**. \n",
    "\n",
    "Precision, recall, and F1 are more informative\n",
    "\n",
    "F1 is generally a good indicator. In particular, macro F1 in case the test set in unbalanced.\n",
    "\n",
    "Whether precision or recall are more important depends on the specific application, if the priority is to avoid false positives or false negatives.\n",
    "\n",
    "Other metrics do exists (e.g., Area Under ROC Curve), always check the literature to find the most informative way to measure something!"
   ]
  },
  {
   "cell_type": "markdown",
   "metadata": {
    "id": "X_MZ91GaRyJP",
    "slideshow": {
     "slide_type": "subslide"
    }
   },
   "source": [
    "Try sampling an unbalanced test set and run model evaluation.\n",
    "\n",
    "Do you see any differences in terms of metric values?"
   ]
  },
  {
   "cell_type": "code",
   "execution_count": 69,
   "metadata": {
    "colab": {
     "base_uri": "https://localhost:8080/",
     "height": 824
    },
    "id": "PihvHXH3TBLV",
    "outputId": "497f7dc7-45b3-4534-a207-c8b5d176540b",
    "scrolled": false,
    "slideshow": {
     "slide_type": "subslide"
    }
   },
   "outputs": [
    {
     "data": {
      "text/plain": [
       "<sklearn.metrics._plot.confusion_matrix.ConfusionMatrixDisplay at 0x1650a2cba90>"
      ]
     },
     "execution_count": 69,
     "metadata": {},
     "output_type": "execute_result"
    },
    {
     "data": {
      "image/png": "[encoded data removed]",
      "text/plain": [
       "<Figure size 640x480 with 1 Axes>"
      ]
     },
     "metadata": {},
     "output_type": "display_data"
    },
    {
     "data": {
      "image/png": "[encoded data removed]",
      "text/plain": [
       "<Figure size 640x480 with 2 Axes>"
      ]
     },
     "metadata": {},
     "output_type": "display_data"
    },
    {
     "data": {
      "image/png": "[encoded data removed]",
      "text/plain": [
       "<Figure size 640x480 with 2 Axes>"
      ]
     },
     "metadata": {},
     "output_type": "display_data"
    }
   ],
   "source": [
    "# plot precision/recall curve and confusion matrix\n",
    "from sklearn.metrics import precision_recall_curve, PrecisionRecallDisplay, ConfusionMatrixDisplay, PrecisionRecallDisplay\n",
    "\n",
    "PrecisionRecallDisplay.from_estimator(majority_classifier, X_test, Y_test)\n",
    "ConfusionMatrixDisplay.from_estimator(majority_classifier, X_test, Y_test, normalize=None, cmap=plt.cm.Blues)\n",
    "ConfusionMatrixDisplay.from_estimator(majority_classifier, X_test, Y_test, normalize='all', cmap=plt.cm.Blues, values_format=\".2f\")"
   ]
  },
  {
   "cell_type": "markdown",
   "metadata": {
    "id": "NYB6E1qyVYtO",
    "slideshow": {
     "slide_type": "fragment"
    }
   },
   "source": [
    "In most cases it is better to use the normalized version, especially with unbalanced distributions!"
   ]
  },
  {
   "cell_type": "markdown",
   "metadata": {
    "id": "N0HSskuMAwZv",
    "slideshow": {
     "slide_type": "subslide"
    }
   },
   "source": [
    "Looking at confusion tables row-wise gives information about recall, looking column-wise gives information about precision.\n",
    "\n",
    "<center>\n",
    "    <img src=\"images/confusion_matrix.png\" alt=\"confusion matrix\" />\n",
    "</center>\n",
    "\n",
    "<div align='right'>\n",
    "(wikipedia)\n",
    "</div>"
   ]
  },
  {
   "cell_type": "code",
   "execution_count": 70,
   "metadata": {
    "colab": {
     "base_uri": "https://localhost:8080/",
     "height": 1000
    },
    "id": "AAR8cXdWTNSI",
    "outputId": "f600556a-f370-4207-d205-4e47260dcf3b",
    "scrolled": true,
    "slideshow": {
     "slide_type": "subslide"
    }
   },
   "outputs": [
    {
     "data": {
      "text/plain": [
       "<sklearn.metrics._plot.confusion_matrix.ConfusionMatrixDisplay at 0x1650e338610>"
      ]
     },
     "execution_count": 70,
     "metadata": {},
     "output_type": "execute_result"
    },
    {
     "data": {
      "image/png": "[encoded data removed]",
      "text/plain": [
       "<Figure size 640x480 with 1 Axes>"
      ]
     },
     "metadata": {},
     "output_type": "display_data"
    },
    {
     "data": {
      "image/png": "[encoded data removed]",
      "text/plain": [
       "<Figure size 640x480 with 2 Axes>"
      ]
     },
     "metadata": {},
     "output_type": "display_data"
    },
    {
     "data": {
      "image/png": "[encoded data removed]",
      "text/plain": [
       "<Figure size 640x480 with 2 Axes>"
      ]
     },
     "metadata": {},
     "output_type": "display_data"
    }
   ],
   "source": [
    "PrecisionRecallDisplay.from_estimator(uniform_classifier, X_test, Y_test)\n",
    "ConfusionMatrixDisplay.from_estimator(uniform_classifier, X_test, Y_test, normalize=None, cmap=plt.cm.Blues)\n",
    "ConfusionMatrixDisplay.from_estimator(uniform_classifier, X_test, Y_test, normalize='all', cmap=plt.cm.Blues, values_format=\".2f\")"
   ]
  },
  {
   "cell_type": "markdown",
   "metadata": {
    "slideshow": {
     "slide_type": "subslide"
    }
   },
   "source": [
    "### 3.2 Bayes Classifier\n",
    "\n",
    "Let's try out our first classifier: A Naive Bayes Classifier (NB)."
   ]
  },
  {
   "cell_type": "code",
   "execution_count": 71,
   "metadata": {
    "slideshow": {
     "slide_type": "fragment"
    }
   },
   "outputs": [],
   "source": [
    "from sklearn.naive_bayes import MultinomialNB\n",
    "\n",
    "nb_classifier = MultinomialNB()\n",
    "\n",
    "nb_classifier.fit(X_train, Y_train)\n",
    "\n",
    "Y_pred_train_nb = nb_classifier.predict(X_train)\n",
    "Y_pred_test_nb = nb_classifier.predict(X_test)"
   ]
  },
  {
   "cell_type": "code",
   "execution_count": 72,
   "metadata": {
    "slideshow": {
     "slide_type": "subslide"
    }
   },
   "outputs": [
    {
     "name": "stdout",
     "output_type": "stream",
     "text": [
      "              precision    recall  f1-score   support\n",
      "\n",
      "         neg       0.89      0.93      0.91     12500\n",
      "         pos       0.93      0.89      0.91     12500\n",
      "\n",
      "    accuracy                           0.91     25000\n",
      "   macro avg       0.91      0.91      0.91     25000\n",
      "weighted avg       0.91      0.91      0.91     25000\n",
      "\n",
      "              precision    recall  f1-score   support\n",
      "\n",
      "         neg       0.79      0.89      0.84     12500\n",
      "         pos       0.87      0.77      0.82     12500\n",
      "\n",
      "    accuracy                           0.83     25000\n",
      "   macro avg       0.83      0.83      0.83     25000\n",
      "weighted avg       0.83      0.83      0.83     25000\n",
      "\n"
     ]
    }
   ],
   "source": [
    "evaluate_classification(y_true=Y_train, y_pred=Y_pred_train_nb)\n",
    "evaluate_classification(y_true=Y_test, y_pred=Y_pred_test_nb)"
   ]
  },
  {
   "cell_type": "code",
   "execution_count": 73,
   "metadata": {
    "slideshow": {
     "slide_type": "subslide"
    }
   },
   "outputs": [
    {
     "data": {
      "text/plain": [
       "<sklearn.metrics._plot.confusion_matrix.ConfusionMatrixDisplay at 0x165466f3150>"
      ]
     },
     "execution_count": 73,
     "metadata": {},
     "output_type": "execute_result"
    },
    {
     "data": {
      "image/png": "[encoded data removed]",
      "text/plain": [
       "<Figure size 640x480 with 1 Axes>"
      ]
     },
     "metadata": {},
     "output_type": "display_data"
    },
    {
     "data": {
      "image/png": "[encoded data removed]",
      "text/plain": [
       "<Figure size 640x480 with 2 Axes>"
      ]
     },
     "metadata": {},
     "output_type": "display_data"
    },
    {
     "data": {
      "image/png": "[encoded data removed]",
      "text/plain": [
       "<Figure size 640x480 with 2 Axes>"
      ]
     },
     "metadata": {},
     "output_type": "display_data"
    }
   ],
   "source": [
    "PrecisionRecallDisplay.from_estimator(nb_classifier, X_test, Y_test)\n",
    "ConfusionMatrixDisplay.from_estimator(nb_classifier, X_test, Y_test, cmap=plt.cm.Blues)\n",
    "ConfusionMatrixDisplay.from_estimator(nb_classifier, X_test, Y_test, normalize='all', cmap=plt.cm.Blues, values_format=\".2f\")"
   ]
  },
  {
   "cell_type": "markdown",
   "metadata": {
    "id": "xdb8GOD9LXa5",
    "slideshow": {
     "slide_type": "subslide"
    }
   },
   "source": [
    "### 3.3 SVC Classifier\n",
    "\n",
    "We consider another classifier: a Support Vector Machine (SVM)."
   ]
  },
  {
   "cell_type": "code",
   "execution_count": 74,
   "metadata": {
    "id": "lTnd0-X2b3ke",
    "scrolled": false,
    "slideshow": {
     "slide_type": "fragment"
    }
   },
   "outputs": [
    {
     "name": "stderr",
     "output_type": "stream",
     "text": [
      "C:\\Users\\ardiz\\AppData\\Local\\Packages\\PythonSoftwareFoundation.Python.3.11_qbz5n2kfra8p0\\LocalCache\\local-packages\\Python311\\site-packages\\sklearn\\svm\\_classes.py:32: FutureWarning: The default value of `dual` will change from `True` to `'auto'` in 1.5. Set the value of `dual` explicitly to suppress the warning.\n",
      "  warnings.warn(\n"
     ]
    }
   ],
   "source": [
    "from sklearn.svm import LinearSVC\n",
    "\n",
    "svc_classifier = LinearSVC()\n",
    "\n",
    "svc_classifier.fit(X_train, Y_train)\n",
    "\n",
    "Y_pred_train_svc = svc_classifier.predict(X_train)\n",
    "Y_pred_test_svc = svc_classifier.predict(X_test)"
   ]
  },
  {
   "cell_type": "code",
   "execution_count": 75,
   "metadata": {
    "colab": {
     "base_uri": "https://localhost:8080/"
    },
    "id": "vG4oUWA0k3yS",
    "outputId": "9a626934-5030-4dd9-9d35-06fe8bb043e0",
    "scrolled": false,
    "slideshow": {
     "slide_type": "subslide"
    }
   },
   "outputs": [
    {
     "name": "stdout",
     "output_type": "stream",
     "text": [
      "              precision    recall  f1-score   support\n",
      "\n",
      "         neg       0.99      0.99      0.99     12500\n",
      "         pos       0.99      0.99      0.99     12500\n",
      "\n",
      "    accuracy                           0.99     25000\n",
      "   macro avg       0.99      0.99      0.99     25000\n",
      "weighted avg       0.99      0.99      0.99     25000\n",
      "\n",
      "              precision    recall  f1-score   support\n",
      "\n",
      "         neg       0.87      0.89      0.88     12500\n",
      "         pos       0.89      0.87      0.88     12500\n",
      "\n",
      "    accuracy                           0.88     25000\n",
      "   macro avg       0.88      0.88      0.88     25000\n",
      "weighted avg       0.88      0.88      0.88     25000\n",
      "\n"
     ]
    }
   ],
   "source": [
    "evaluate_classification(y_true=Y_train, y_pred=Y_pred_train_svc)\n",
    "evaluate_classification(y_true=Y_test, y_pred=Y_pred_test_svc)"
   ]
  },
  {
   "cell_type": "code",
   "execution_count": 76,
   "metadata": {
    "colab": {
     "base_uri": "https://localhost:8080/",
     "height": 820
    },
    "id": "OgtGYwjncFpn",
    "outputId": "1ea9fead-8fbc-4300-9545-7ed0ccce70de",
    "scrolled": true,
    "slideshow": {
     "slide_type": "subslide"
    }
   },
   "outputs": [
    {
     "data": {
      "text/plain": [
       "<sklearn.metrics._plot.confusion_matrix.ConfusionMatrixDisplay at 0x16546407f90>"
      ]
     },
     "execution_count": 76,
     "metadata": {},
     "output_type": "execute_result"
    },
    {
     "data": {
      "image/png": "[encoded data removed]",
      "text/plain": [
       "<Figure size 640x480 with 1 Axes>"
      ]
     },
     "metadata": {},
     "output_type": "display_data"
    },
    {
     "data": {
      "image/png": "[encoded data removed]",
      "text/plain": [
       "<Figure size 640x480 with 2 Axes>"
      ]
     },
     "metadata": {},
     "output_type": "display_data"
    },
    {
     "data": {
      "image/png": "[encoded data removed]",
      "text/plain": [
       "<Figure size 640x480 with 2 Axes>"
      ]
     },
     "metadata": {},
     "output_type": "display_data"
    }
   ],
   "source": [
    "PrecisionRecallDisplay.from_estimator(svc_classifier, X_test, Y_test)\n",
    "ConfusionMatrixDisplay.from_estimator(svc_classifier, X_test, Y_test, cmap=plt.cm.Blues)\n",
    "ConfusionMatrixDisplay.from_estimator(svc_classifier, X_test, Y_test, normalize='all', cmap=plt.cm.Blues, values_format=\".2f\")"
   ]
  },
  {
   "cell_type": "markdown",
   "metadata": {
    "id": "TRLGlUAKSv0-",
    "slideshow": {
     "slide_type": "slide"
    }
   },
   "source": [
    "### 3.4 Error Analysis\n",
    "\n",
    "Let's try to understand what kind of errors are done by the model. \n",
    "\n",
    "We can look at specific cases of error."
   ]
  },
  {
   "cell_type": "code",
   "execution_count": 77,
   "metadata": {
    "id": "zBtBePtaTKlp",
    "scrolled": false,
    "slideshow": {
     "slide_type": "subslide"
    }
   },
   "outputs": [],
   "source": [
    "# confidence of the model\n",
    "confidence = svc_classifier.decision_function(X_test)\n",
    "\n",
    "fp_i = []\n",
    "fn_i = []\n",
    "fp_v = []\n",
    "fn_v = []\n",
    "fp_c = []\n",
    "fn_c = []\n",
    "\n",
    "for index, value in enumerate(Y_test):\n",
    "    # false positives\n",
    "    if value==0 and Y_pred_test_svc[index]==1:\n",
    "        fp_i.append(index)\n",
    "        fp_v.append(value)\n",
    "        fp_c.append(confidence[index])\n",
    "    # false negatives\n",
    "    elif value==1 and Y_pred_test_svc[index]==0:\n",
    "        fn_i.append(index)\n",
    "        fn_v.append(value)\n",
    "        fn_c.append(confidence[index])"
   ]
  },
  {
   "cell_type": "markdown",
   "metadata": {
    "id": "Ey4zy1ltVRoE",
    "slideshow": {
     "slide_type": "subslide"
    }
   },
   "source": [
    "Let's print some examples of FN and FP and the confidence in their classification"
   ]
  },
  {
   "cell_type": "code",
   "execution_count": 78,
   "metadata": {
    "colab": {
     "base_uri": "https://localhost:8080/"
    },
    "id": "dKNL64KsVUjF",
    "outputId": "a69982cf-c909-480d-d20f-4e70674a15e0",
    "scrolled": false,
    "slideshow": {
     "slide_type": "fragment"
    }
   },
   "outputs": [
    {
     "name": "stdout",
     "output_type": "stream",
     "text": [
      "FN\n",
      "My wife is a mental health therapist and we watched it from beginning to end. I am the typical man and can not stand chick flicks, but this movie is unbelievable. If you want to see what it is like for someone who is going through these type of struggles, this is the movie for you. As I watched it I found myself feeling sorry for him and others like him. <br /><br />***Spoiler*** Plus the fact that all the individuals in the movie including the people in the mental institution were the actual people in real life made it that more real.<br /><br />A must see for someone in the mental health profession!\n",
      "-0.3093299457020724\n",
      "\n",
      "Naturally, along with everyone else, I was primed to expect a lot of Hollywood fantasy revisionism in THEY DIED WITH THEIR BOOTS ON over the legend of Custer. Just having someone like Errol Flynn play Custer is enough of a clue that the legend has precedence over the truth in this production. And for the most part my expectations were fulfilled (in an admittedly rousing and entertaining way).<br /><br />Yet even in this obviously biased (and much criticized) retelling of the Custer story, I was struck by some of the points made in this movie that, sometimes subtly but nevertheless solidly, seemed to counter the typical clichés of manifest destiny and unvarnished heroism usually found in Westerns of the early 20th century.<br /><br />For instance, even while this film attempted to whitewash it's hero, certain scenes still suggested the more flawed and foolish character of the real-life Custer: <br /><br />1) His initial entrance at the West Point front gate, in which his arrogance and pompousness is a clear aspect of his character.<br /><br />2) His miserable record at West Point, which seems to be attributed as much to Custer's cluelessness about the demands of military service as any other factor; there are moments in the way Flynn plays Custer at West Point where he seems downright stupid.<br /><br />3) Custer's promotion to General is not only presented as a ridiculous mistake, but it plays out as slapstick comedy. I half-expected to see the Marx Brothers or Abbott and Costello wander into the scene.<br /><br />4) Custer's stand against Jeb Stuart at Gettysburg is not whitewashed as brilliant military tactical leadership, but is presented as reckless and wildly lucky.<br /><br />5) Custer's drinking problem is certainly not ignored.<br /><br />And although the music and some of the ways the Indians were shown in this film were certainly reinforcements of the racist stereotype of the ignorant savage, it still came as a surprise to me that the movie actually went into some detail as to why the Indians were justified in attacking the whites who were moving into their land, and fairly explicitly laid the blame for the battles in the Black Hills squarely at the foot of the white man. In fact, no one can argue that the clear villain of the piece is not Anthony Quinn as Sitting Bull, but Arthur Kennedy & Co. as the white devils making the false claim of gold in the Black Hills. Sure, that part of the story is true, but I didn't expect to see it portrayed quite so unequivically in a movie like this.<br /><br />And one other thing: usually in these films it is the Indians who are portrayed en masse as drunken animals seemingly incapable of the basic common sense to avoid getting falling down drunk any time they get near alcohol. In this movie, it is actually the troops of the 7th Cavalry, and not the Indians, who in at least two scenes are portrayed this way.<br /><br />All in all, this movie slips in some surprising moments in the midst of the Hollywood bunk.\n",
      "-0.11886679257390069\n",
      "\n"
     ]
    }
   ],
   "source": [
    "print(\"FN\")\n",
    "\n",
    "for index in [0, 3]:\n",
    "    print(test_texts[fn_i[index]])\n",
    "    print(fn_c[index])\n",
    "    print()"
   ]
  },
  {
   "cell_type": "code",
   "execution_count": 79,
   "metadata": {
    "scrolled": true,
    "slideshow": {
     "slide_type": "subslide"
    }
   },
   "outputs": [
    {
     "name": "stdout",
     "output_type": "stream",
     "text": [
      "FP\n",
      "Not even the Beatles could write songs everyone liked, and although Walter Hill is no mop-top he's second to none when it comes to thought provoking action movies. The nineties came and social platforms were changing in music and film, the emergence of the Rapper turned movie star was in full swing, the acting took a back seat to each man's overpowering regional accent and transparent acting. This was one of the many ice-t movies i saw as a kid and loved, only to watch them later and cringe. Bill Paxton and William Sadler are firemen with basic lives until a burning building tenant about to go up in flames hands over a map with gold implications. I hand it to Walter for quickly and neatly setting up the main characters and location. But i fault everyone involved for turning out Lame-o performances. Ice-t and cube must have been red hot at this time, and while I've enjoyed both their careers as rappers, in my opinion they fell flat in this movie. It's about ninety minutes of one guy ridiculously turning his back on the other guy to the point you find yourself locked in multiple states of disbelief. Now this is a movie, its not a documentary so i wont waste my time recounting all the stupid plot twists in this movie, but there were many, and they led nowhere. I got the feeling watching this that everyone on set was sord of confused and just playing things off the cuff. There are two things i still enjoy about it, one involves a scene with a needle and the other is Sadler's huge 45 pistol. Bottom line this movie is like domino's pizza. Yeah ill eat it if I'm hungry and i don't feel like cooking, But I'm well aware it tastes like crap. 3 stars, meh.\n",
      "0.05365040665741236\n",
      "\n",
      "While the premise of the film sounded unique and intriguing after watching the first 5 minutes of the film I could have stopped there and gone on with my life. She does get some interesting comments and reactions from her subjects, but not really enough to add to the validity of the film.<br /><br />I also felt she went a bit overboard with many things. If a guy said a filthy comment, grabbed her, or made some disgusting gesture to her, I would say go for it, bring him down, he's a pig. What bothered me though is she would walk around in revealing clothes and be surprised when guys would look at her and give them hell about it.<br /><br />I think somehow she forgot that being attracted to other people is a part of human sexuality and a big part of who we all are. Guys will look at beautiful women, especially when they dress provocatively, just like women will look at men when they are wearing a tight tank or no shirt at all.<br /><br />Some women may hate me for this, but I hope not. I have much respect for women. I was raised by one. I also come from a Spanish family and we are very matriarchal. My grandmother was the center of my family for years, but I don't really feel this did anything to help women's rights and from what the filmmaker even said herself, some women were offended by her project.\n",
      "0.22801564634762822\n",
      "\n"
     ]
    }
   ],
   "source": [
    "print(\"FP\")\n",
    "\n",
    "for index in [0, 6]:\n",
    "    print(test_texts[fp_i[index]])\n",
    "    print(fp_c[index])\n",
    "    print()"
   ]
  },
  {
   "cell_type": "markdown",
   "metadata": {
    "id": "BPVAEPWVcuOB",
    "slideshow": {
     "slide_type": "subslide"
    }
   },
   "source": [
    "We now check the sentences for which the classification error is bigger."
   ]
  },
  {
   "cell_type": "code",
   "execution_count": 80,
   "metadata": {
    "colab": {
     "base_uri": "https://localhost:8080/"
    },
    "id": "blgisqSqc45b",
    "outputId": "7d8d9e0d-5e60-4fa0-de60-070257e71776",
    "scrolled": false,
    "slideshow": {
     "slide_type": "fragment"
    }
   },
   "outputs": [
    {
     "name": "stdout",
     "output_type": "stream",
     "text": [
      "This movie was pure genius. John Waters is brilliant. It is hilarious and I am not sick of it even after seeing it about 20 times since I bought it a few months ago. The acting is great, although Ricki Lake could have been better. And Johnny Depp is magnificent. He is such a beautiful man and a very talented actor. And seeing most of Johnny's movies, this is probably my favorite. I give it 9.5/10. Rent it today!\n",
      "2.070316311391883\n",
      "\n",
      "All I can do is echo the sentiment already expressed by some of the other commenters. This is CITY OF GOD meets HAPPY DAYS. The bipolarity of the ruthless thug (one minute a ruthless killer, the next minute a Luv's diaper commercial) is completely unconvincing. You can approach it in one of two ways: (1) A gritty, realistic movie turned sappy; or (2) a sappy, ABC-afterschool-special with profanity, violence and animal cruelty. Either way it just don't fly, do it? Why then has it received so much praise? As others have implied, it gets the \"conscience vote\" from the west. Show us pictures of poverty to contrast against our fluffy, double-wide theatre seats and 44-oz cokes, and we'll applaud in a heartbeat. But--oh--don't forget to candy coat it, because the bitter pill of reality (tantalizing as it is) is hard for us to swallow.<br /><br />I'm terribly disappointed that this film would receive so many awards and accolades, especially when there are far more deserving works of film out there. All I can say is: beware of any film that receives awards (Hollywood Oscars = sweeping, syrupy tripe. Cannes Film Festival = beard-stroking, artless propaganda). To find the real gems, you'll have to work hard at it.\n",
      "-1.9518709338248725\n"
     ]
    }
   ],
   "source": [
    "max_fp = fp_c.index(max(fp_c))\n",
    "print(test_texts[fp_i[max_fp]])\n",
    "print(fp_c[max_fp])\n",
    "\n",
    "print()\n",
    "\n",
    "# for false negatives the confidence is negative\n",
    "max_fn = fn_c.index(min(fn_c))\n",
    "print(test_texts[fp_i[max_fn]])\n",
    "print(fn_c[max_fn])"
   ]
  },
  {
   "cell_type": "markdown",
   "metadata": {
    "slideshow": {
     "slide_type": "subslide"
    }
   },
   "source": [
    "Let's now consider the stemmed and lemmatized versions of our input features."
   ]
  },
  {
   "cell_type": "code",
   "execution_count": 81,
   "metadata": {
    "scrolled": false,
    "slideshow": {
     "slide_type": "fragment"
    }
   },
   "outputs": [
    {
     "name": "stderr",
     "output_type": "stream",
     "text": [
      "C:\\Users\\ardiz\\AppData\\Local\\Packages\\PythonSoftwareFoundation.Python.3.11_qbz5n2kfra8p0\\LocalCache\\local-packages\\Python311\\site-packages\\sklearn\\svm\\_classes.py:32: FutureWarning: The default value of `dual` will change from `True` to `'auto'` in 1.5. Set the value of `dual` explicitly to suppress the warning.\n",
      "  warnings.warn(\n"
     ]
    }
   ],
   "source": [
    "svc_classifier_st = LinearSVC()\n",
    "\n",
    "svc_classifier_st.fit(st_X_train, Y_train)\n",
    "\n",
    "Y_pred_train_svc_st = svc_classifier_st.predict(st_X_train)\n",
    "Y_pred_test_svc_st = svc_classifier_st.predict(st_X_test)"
   ]
  },
  {
   "cell_type": "code",
   "execution_count": 82,
   "metadata": {
    "scrolled": false,
    "slideshow": {
     "slide_type": "subslide"
    }
   },
   "outputs": [
    {
     "name": "stdout",
     "output_type": "stream",
     "text": [
      "              precision    recall  f1-score   support\n",
      "\n",
      "         neg       0.99      0.99      0.99     12500\n",
      "         pos       0.99      0.99      0.99     12500\n",
      "\n",
      "    accuracy                           0.99     25000\n",
      "   macro avg       0.99      0.99      0.99     25000\n",
      "weighted avg       0.99      0.99      0.99     25000\n",
      "\n",
      "              precision    recall  f1-score   support\n",
      "\n",
      "         neg       0.87      0.88      0.87     12500\n",
      "         pos       0.88      0.86      0.87     12500\n",
      "\n",
      "    accuracy                           0.87     25000\n",
      "   macro avg       0.87      0.87      0.87     25000\n",
      "weighted avg       0.87      0.87      0.87     25000\n",
      "\n"
     ]
    }
   ],
   "source": [
    "evaluate_classification(y_true=Y_train, y_pred=Y_pred_train_svc_st)\n",
    "evaluate_classification(y_true=Y_test, y_pred=Y_pred_test_svc_st)"
   ]
  },
  {
   "cell_type": "code",
   "execution_count": 83,
   "metadata": {
    "scrolled": false,
    "slideshow": {
     "slide_type": "subslide"
    }
   },
   "outputs": [
    {
     "name": "stderr",
     "output_type": "stream",
     "text": [
      "C:\\Users\\ardiz\\AppData\\Local\\Packages\\PythonSoftwareFoundation.Python.3.11_qbz5n2kfra8p0\\LocalCache\\local-packages\\Python311\\site-packages\\sklearn\\svm\\_classes.py:32: FutureWarning: The default value of `dual` will change from `True` to `'auto'` in 1.5. Set the value of `dual` explicitly to suppress the warning.\n",
      "  warnings.warn(\n"
     ]
    }
   ],
   "source": [
    "svc_classifier_lem = LinearSVC()\n",
    "\n",
    "svc_classifier_lem.fit(lem_X_train, Y_train)\n",
    "\n",
    "Y_pred_train_svc_lem = svc_classifier_lem.predict(lem_X_train)\n",
    "Y_pred_test_svc_lem = svc_classifier_lem.predict(lem_X_test)"
   ]
  },
  {
   "cell_type": "code",
   "execution_count": 84,
   "metadata": {
    "scrolled": false,
    "slideshow": {
     "slide_type": "subslide"
    }
   },
   "outputs": [
    {
     "name": "stdout",
     "output_type": "stream",
     "text": [
      "              precision    recall  f1-score   support\n",
      "\n",
      "         neg       0.99      0.99      0.99     12500\n",
      "         pos       0.99      0.99      0.99     12500\n",
      "\n",
      "    accuracy                           0.99     25000\n",
      "   macro avg       0.99      0.99      0.99     25000\n",
      "weighted avg       0.99      0.99      0.99     25000\n",
      "\n",
      "              precision    recall  f1-score   support\n",
      "\n",
      "         neg       0.86      0.88      0.87     12500\n",
      "         pos       0.88      0.86      0.87     12500\n",
      "\n",
      "    accuracy                           0.87     25000\n",
      "   macro avg       0.87      0.87      0.87     25000\n",
      "weighted avg       0.87      0.87      0.87     25000\n",
      "\n"
     ]
    }
   ],
   "source": [
    "evaluate_classification(y_true=Y_train, y_pred=Y_pred_train_svc_lem)\n",
    "evaluate_classification(y_true=Y_test, y_pred=Y_pred_test_svc_lem)"
   ]
  },
  {
   "cell_type": "markdown",
   "metadata": {
    "slideshow": {
     "slide_type": "subslide"
    }
   },
   "source": [
    "### 3.4.1 Comparisons\n",
    "\n",
    "Let's organize our results in a Table to better compare models."
   ]
  },
  {
   "cell_type": "markdown",
   "metadata": {
    "slideshow": {
     "slide_type": "fragment"
    }
   },
   "source": [
    "| Model       | F1-macro |\n",
    "| ---         | ---      |\n",
    "| Random      | .50      |\n",
    "| Majority    | .33      |\n",
    "| NB          |  .83     |\n",
    "| SVM         | **.88**      |\n",
    "| SVM w/ Stem | .87      |\n",
    "| SVM w/ Lem  | .87      |"
   ]
  }
 ],
 "metadata": {
  "celltoolbar": "Slideshow",
  "colab": {
   "collapsed_sections": [],
   "provenance": []
  },
  "kernelspec": {
   "display_name": "Python 3 (ipykernel)",
   "language": "python",
   "name": "python3"
  },
  "language_info": {
   "codemirror_mode": {
    "name": "ipython",
    "version": 3
   },
   "file_extension": ".py",
   "mimetype": "text/x-python",
   "name": "python",
   "nbconvert_exporter": "python",
   "pygments_lexer": "ipython3",
   "version": "3.11.6"
  }
 },
 "nbformat": 4,
 "nbformat_minor": 1
}
