{
 "cells": [
  {
   "cell_type": "markdown",
   "metadata": {},
   "source": [
    "# [10] Documenting Code"
   ]
  },
  {
   "cell_type": "markdown",
   "metadata": {},
   "source": [
    "### Docstrings"
   ]
  },
  {
   "cell_type": "code",
   "execution_count": null,
   "metadata": {},
   "outputs": [],
   "source": [
    "from typing import List\n",
    "def some_function(a: List, b: int = 0) -> np.ndarray:\n",
    "    \"\"\"Function description.\n",
    "\n",
    "    ```python\n",
    "    c = some_function(a=[], b=0)\n",
    "    print (c)\n",
    "    ```\n",
    "    <pre>\n",
    "    [[1 2]\n",
    "     [3 4]]\n",
    "    </pre>\n",
    "\n",
    "    Args:\n",
    "        a (List): description of `a`.\n",
    "        b (int, optional): description of `b`. Defaults to 0.\n",
    "\n",
    "    Raises:\n",
    "        ValueError: Input list is not one-dimensional.\n",
    "\n",
    "    Returns:\n",
    "        np.ndarray: Description of `c`.\n",
    "\n",
    "    \"\"\"\n",
    "    return c"
   ]
  },
  {
   "cell_type": "code",
   "execution_count": null,
   "metadata": {},
   "outputs": [],
   "source": [
    "# madewithml/data.py\n",
    "from typing import List\n",
    "\n",
    "def clean_text(text: str, stopwords: List = STOPWORDS) -> str:\n",
    "    \"\"\"Clean raw text string.\n",
    "\n",
    "    Args:\n",
    "        text (str): Raw text to clean.\n",
    "        stopwords (List, optional): list of words to filter out. Defaults to STOPWORDS.\n",
    "\n",
    "    Returns:\n",
    "        str: cleaned text.\n",
    "    \"\"\"\n",
    "    pass"
   ]
  },
  {
   "cell_type": "markdown",
   "metadata": {},
   "source": [
    "### Docs"
   ]
  },
  {
   "cell_type": "markdown",
   "metadata": {},
   "source": [
    "1. Initialize mkdocs\n",
    "\n",
    "2. We'll start by overwriting the default index.md file in our docs directory with information specific to our project:"
   ]
  }
 ],
 "metadata": {
  "language_info": {
   "name": "python"
  }
 },
 "nbformat": 4,
 "nbformat_minor": 2
}
