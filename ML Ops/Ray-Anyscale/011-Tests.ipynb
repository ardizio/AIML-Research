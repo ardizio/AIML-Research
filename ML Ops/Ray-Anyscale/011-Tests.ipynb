{
 "cells": [
  {
   "cell_type": "markdown",
   "metadata": {},
   "source": [
    "# [10] Testing Machine Learning Systems: Code, Data and Models\n",
    "\n",
    "\n",
    "### Types of tests\n",
    "There are four majors types of tests which are utilized at different points in the development cycle:\n",
    "\n",
    "1. `Unit tests`: tests on individual components that each have a single responsibility (ex. function that filters a list).\n",
    "2. `Integration tests`: tests on the combined functionality of individual components (ex. data processing).\n",
    "3. `System tests`: tests on the design of a system for expected outputs given inputs (ex. training, inference, etc.).\n",
    "4. `Acceptance tests`: tests to verify that requirements have been met, usually referred to as User Acceptance Testing (UAT).\n",
    "5. `Regression tests`: tests based on errors we've seen before to ensure new changes don't reintroduce them."
   ]
  },
  {
   "cell_type": "markdown",
   "metadata": {},
   "source": [
    "### Best practices\n",
    "\n",
    "Regardless of the framework we use, it's important to strongly tie testing into the development process.\n",
    "\n",
    "- `atomic`: when creating functions and classes, we need to ensure that they have a single responsibility so that we can easily test them. If not, we'll need to split them into more granular components.\n",
    "- `compose`: when we create new components, we want to compose tests to validate their functionality. It's a great way to ensure reliability and catch errors early on.\n",
    "- `reuse`: we should maintain central repositories where core functionality is tested at the source and reused across many projects. This significantly reduces testing efforts for each new project's code base.\n",
    "- `regression`: we want to account for new errors we come across with a regression test so we can ensure we don't reintroduce the same errors in the future.\n",
    "- `coverage`: we want to ensure 100% coverage for our codebase. This doesn't mean writing a test for every single line of code but rather accounting for every single line.\n",
    "- `automate`: in the event we forget to run our tests before committing to a repository, we want to auto run tests when we make changes to our codebase. We'll learn how to do this locally using pre-commit hooks and remotely via GitHub actions in subsequent lessons."
   ]
  }
 ],
 "metadata": {
  "language_info": {
   "name": "python"
  }
 },
 "nbformat": 4,
 "nbformat_minor": 2
}
