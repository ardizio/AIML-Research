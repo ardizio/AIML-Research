{
 "cells": [
  {
   "cell_type": "markdown",
   "metadata": {},
   "source": [
    "# [9] Logging for ML Systems\n",
    "\n",
    "### Components\n",
    "There are a few overarching concepts to be aware of:\n",
    "\n",
    "- `Logger`: emits the log messages from our application.\n",
    "- `Handler`: sends log records to a specific location.\n",
    "- `Formatter`: formats and styles the log records."
   ]
  },
  {
   "cell_type": "code",
   "execution_count": null,
   "metadata": {},
   "outputs": [],
   "source": [
    "import logging\n",
    "import sys\n",
    "\n",
    "# Create super basic logger\n",
    "logging.basicConfig(stream=sys.stdout, level=logging.DEBUG)\n",
    "\n",
    "# Logging levels (from lowest to highest priority)\n",
    "logging.debug(\"Used for debugging your code.\")\n",
    "logging.info(\"Informative messages from your code.\")\n",
    "logging.warning(\"Everything works but there is something to be aware of.\")\n",
    "logging.error(\"There's been a mistake with the process.\")\n",
    "logging.critical(\"There is something terribly wrong and process may terminate.\")"
   ]
  },
  {
   "cell_type": "markdown",
   "metadata": {},
   "source": [
    "## Configuration"
   ]
  },
  {
   "cell_type": "code",
   "execution_count": null,
   "metadata": {},
   "outputs": [],
   "source": [
    "# codebase/config.py\n",
    "LOGS_DIR = Path(BASE_DIR, \"logs\")\n",
    "LOGS_DIR.mkdir(parents=True, exist_ok=True)"
   ]
  },
  {
   "cell_type": "code",
   "execution_count": null,
   "metadata": {},
   "outputs": [],
   "source": [
    "# codebase/config.py\n",
    "import logging\n",
    "import sys\n",
    "logging_config = {\n",
    "    \"version\": 1,\n",
    "    \"disable_existing_loggers\": False,\n",
    "    \"formatters\": {\n",
    "        \"minimal\": {\"format\": \"%(message)s\"},\n",
    "        \"detailed\": {\n",
    "            \"format\": \"%(levelname)s %(asctime)s [%(name)s:%(filename)s:%(funcName)s:%(lineno)d]\\n%(message)s\\n\"\n",
    "        },\n",
    "    },\n",
    "    \"handlers\": {\n",
    "        \"console\": {\n",
    "            \"class\": \"logging.StreamHandler\",\n",
    "            \"stream\": sys.stdout,\n",
    "            \"formatter\": \"minimal\",\n",
    "            \"level\": logging.DEBUG,\n",
    "        },\n",
    "        \"info\": {\n",
    "            \"class\": \"logging.handlers.RotatingFileHandler\",\n",
    "            \"filename\": Path(LOGS_DIR, \"info.log\"),\n",
    "            \"maxBytes\": 10485760,  # 1 MB\n",
    "            \"backupCount\": 10,\n",
    "            \"formatter\": \"detailed\",\n",
    "            \"level\": logging.INFO,\n",
    "        },\n",
    "        \"error\": {\n",
    "            \"class\": \"logging.handlers.RotatingFileHandler\",\n",
    "            \"filename\": Path(LOGS_DIR, \"error.log\"),\n",
    "            \"maxBytes\": 10485760,  # 1 MB\n",
    "            \"backupCount\": 10,\n",
    "            \"formatter\": \"detailed\",\n",
    "            \"level\": logging.ERROR,\n",
    "        },\n",
    "    },\n",
    "    \"root\": {\n",
    "        \"handlers\": [\"console\", \"info\", \"error\"],\n",
    "        \"level\": logging.INFO,\n",
    "        \"propagate\": True,\n",
    "    },\n",
    "}"
   ]
  },
  {
   "cell_type": "code",
   "execution_count": null,
   "metadata": {},
   "outputs": [],
   "source": [
    "# codebase/config.py\n",
    "import logging\n",
    "\n",
    "# Logger\n",
    "logging_config = {...}\n",
    "logging.config.dictConfig(logging_config)\n",
    "logger = logging.getLogger()\n",
    "\n",
    "# Sample messages (note that we use configured `logger` now)\n",
    "logger.debug(\"Used for debugging your code.\")\n",
    "logger.info(\"Informative messages from your code.\")\n",
    "logger.warning(\"Everything works but there is something to be aware of.\")\n",
    "logger.error(\"There's been a mistake with the process.\")\n",
    "logger.critical(\"There is something terribly wrong and process may terminate.\")"
   ]
  },
  {
   "cell_type": "markdown",
   "metadata": {},
   "source": [
    "logs/\n",
    "    ├── info.log\n",
    "    └── error.log"
   ]
  },
  {
   "cell_type": "markdown",
   "metadata": {},
   "source": [
    "### Implementation"
   ]
  },
  {
   "cell_type": "code",
   "execution_count": null,
   "metadata": {},
   "outputs": [],
   "source": [
    "print(\"✅ Training complete!\")"
   ]
  },
  {
   "cell_type": "markdown",
   "metadata": {},
   "source": [
    "────   becomes:   ────"
   ]
  },
  {
   "cell_type": "code",
   "execution_count": null,
   "metadata": {},
   "outputs": [],
   "source": [
    "from config import logger\n",
    "logger.info(\"✅ Training complete!\")"
   ]
  }
 ],
 "metadata": {
  "language_info": {
   "name": "python"
  }
 },
 "nbformat": 4,
 "nbformat_minor": 2
}
