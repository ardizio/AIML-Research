{
 "cells": [
  {
   "cell_type": "markdown",
   "metadata": {},
   "source": [
    "# [8] Moving from Notebooks to Scripts"
   ]
  },
  {
   "cell_type": "markdown",
   "metadata": {},
   "source": [
    "codebase/\n",
    "├── config.py\n",
    "├── data.py\n",
    "├── evaluate.py\n",
    "├── models.py\n",
    "├── predict.py\n",
    "├── serve.py\n",
    "├── train.py\n",
    "├── tune.py\n",
    "└── utils.py"
   ]
  },
  {
   "cell_type": "markdown",
   "metadata": {},
   "source": [
    "#### Functions and classes"
   ]
  },
  {
   "cell_type": "code",
   "execution_count": null,
   "metadata": {},
   "outputs": [],
   "source": [
    "# codebase/train.py\n",
    "def train_step(a):\n",
    "    pass\n",
    "\n",
    "def val_step(b):\n",
    "    pass\n",
    "\n",
    "def train_loop_per_worker(c):\n",
    "    pass\n",
    "\n"
   ]
  },
  {
   "cell_type": "markdown",
   "metadata": {},
   "source": [
    "### Workloads"
   ]
  },
  {
   "cell_type": "code",
   "execution_count": null,
   "metadata": {},
   "outputs": [],
   "source": [
    "# Scaling config\n",
    "scaling_config = ScalingConfig(\n",
    "    num_workers=num_workers,\n",
    "    use_gpu=bool(resources_per_worker[\"GPU\"]),\n",
    "    resources_per_worker=resources_per_worker,\n",
    "    _max_cpu_fraction_per_node=0.8,\n",
    ")\n",
    "\n",
    "# Checkpoint config\n",
    "checkpoint_config = CheckpointConfig(\n",
    "    num_to_keep=1,\n",
    "    checkpoint_score_attribute=\"val_loss\",\n",
    "    checkpoint_score_order=\"min\",\n",
    ")"
   ]
  },
  {
   "cell_type": "code",
   "execution_count": null,
   "metadata": {},
   "outputs": [],
   "source": [
    "# codebase/train.py\n",
    "def train_model(experiment_name, dataset_loc, ...):\n",
    "    ...\n",
    "\n",
    "    # Scaling config\n",
    "    scaling_config = ScalingConfig(\n",
    "        num_workers=num_workers,\n",
    "        use_gpu=bool(gpu_per_worker),\n",
    "        resources_per_worker={\"CPU\": cpu_per_worker, \"GPU\": gpu_per_worker},\n",
    "        _max_cpu_fraction_per_node=0.8,\n",
    "    )\n",
    "\n",
    "    # Checkpoint config\n",
    "    checkpoint_config = CheckpointConfig(\n",
    "        num_to_keep=1,\n",
    "        checkpoint_score_attribute=\"val_loss\",\n",
    "        checkpoint_score_order=\"min\",\n",
    "    )"
   ]
  },
  {
   "cell_type": "markdown",
   "metadata": {},
   "source": [
    "### Config"
   ]
  },
  {
   "cell_type": "code",
   "execution_count": null,
   "metadata": {},
   "outputs": [],
   "source": [
    "# Config MLflow\n",
    "MODEL_REGISTRY = Path(\"/tmp/mlflow\")\n",
    "Path(MODEL_REGISTRY).mkdir(parents=True, exist_ok=True)\n",
    "MLFLOW_TRACKING_URI = \"file://\" + str(MODEL_REGISTRY.absolute())\n",
    "mlflow.set_tracking_uri(MLFLOW_TRACKING_URI)"
   ]
  },
  {
   "cell_type": "markdown",
   "metadata": {},
   "source": [
    "#### Utilities"
   ]
  },
  {
   "cell_type": "code",
   "execution_count": null,
   "metadata": {},
   "outputs": [],
   "source": [
    "def set_seeds(seed: int = 42):\n",
    "    \"\"\"Set seeds for reproducibility.\"\"\"\n",
    "    np.random.seed(seed)\n",
    "    random.seed(seed)\n",
    "    torch.manual_seed(seed)\n",
    "    torch.cuda.manual_seed(seed)\n",
    "    eval(\"setattr(torch.backends.cudnn, 'deterministic', True)\")\n",
    "    eval(\"setattr(torch.backends.cudnn, 'benchmark', False)\")\n",
    "    os.environ[\"PYTHONHASHSEED\"] = str(seed)"
   ]
  },
  {
   "cell_type": "markdown",
   "metadata": {},
   "source": [
    "### Ray"
   ]
  },
  {
   "cell_type": "code",
   "execution_count": null,
   "metadata": {},
   "outputs": [],
   "source": [
    "# codebase/train.py\n",
    "if __name__ == \"__main__\":\n",
    "    if ray.is_initialized():\n",
    "        ray.shutdown()\n",
    "    ray.init()\n",
    "    app()  # initialize Typer app"
   ]
  }
 ],
 "metadata": {
  "language_info": {
   "name": "python"
  }
 },
 "nbformat": 4,
 "nbformat_minor": 2
}
