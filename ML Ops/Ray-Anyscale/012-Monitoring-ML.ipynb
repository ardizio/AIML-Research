{
 "cells": [
  {
   "cell_type": "markdown",
   "metadata": {},
   "source": [
    "# [12] Monitor ML\n",
    "\n",
    "![System health\n",
    "](https://miro.medium.com/max/2400/1*DQdiQupXSSd3fldg9eAQjA.jpeg)"
   ]
  }
 ],
 "metadata": {
  "language_info": {
   "name": "python"
  }
 },
 "nbformat": 4,
 "nbformat_minor": 2
}
